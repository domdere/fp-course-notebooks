{
 "cells": [
  {
   "cell_type": "markdown",
   "metadata": {},
   "source": [
    "# Monad Exercises\n",
    "\n",
    "## IGNORE THIS (Setup)\n"
   ]
  },
  {
   "cell_type": "code",
   "execution_count": 9,
   "metadata": {},
   "outputs": [],
   "source": [
    ":set -XNoImplicitPrelude\n",
    ":set -XTypeSynonymInstances\n",
    ":set -XInstanceSigs\n",
    ":l ../../original-source/Course/Core.hs\n",
    ":l ../../original-source/Course/ExactlyOne.hs\n",
    ":l ../../original-source/Course/Optional.hs\n",
    ":l ../../original-source/Course/List.hs\n",
    ":l ../../original-source/Course/Functor.hs\n",
    ":l ../../original-source/Course/Applicative.hs\n",
    "import qualified Prelude as P\n",
    "import Prelude (String)\n",
    "import Data.Foldable (for_, traverse_)\n",
    "import Test.QuickCheck\n",
    "\n",
    "runTests :: [(P.String, Property)] -> IO ()\n",
    "runTests tests = for_ tests $ \\(name, prop) -> do\n",
    "  P.putStrLn $ \"Testing: \" P.++ name\n",
    "  quickCheck prop\n",
    "\n",
    "threeOf :: Gen a -> Gen (a, a, a)\n",
    "threeOf g = do\n",
    "  x <- g\n",
    "  y <- g\n",
    "  z <- g\n",
    "  P.return (x, y, z)\n",
    "\n",
    "listOf :: Gen a -> Gen (List a)\n",
    "listOf g =\n",
    "  let\n",
    "    genN 0 = P.return Nil\n",
    "    genN n = do\n",
    "      h <- g\n",
    "      t <- genN (n - 1)\n",
    "      P.return (h :. t)\n",
    "  in do\n",
    "    len <- choose (0, 100)\n",
    "    genN len"
   ]
  },
  {
   "cell_type": "markdown",
   "metadata": {},
   "source": [
    "## Monad\n",
    "\n",
    "### Definition"
   ]
  },
  {
   "cell_type": "code",
   "execution_count": 10,
   "metadata": {},
   "outputs": [],
   "source": [
    "class (Applicative f) => Monad f where\n",
    "--mappend :: a         -> a    -> a\n",
    "  (>>=)   :: f a -> (a -> f b) -> f b\n",
    "\n",
    "infixl 1 >>=\n",
    "\n",
    "(=<<) :: (Monad m) => (a -> m b) -> m a -> m b\n",
    "f =<< mx = mx >>= f\n",
    "\n",
    "infixr 1 =<<"
   ]
  },
  {
   "cell_type": "markdown",
   "metadata": {},
   "source": [
    "### Laws\n",
    "\n",
    "In **addition** to the `Functor` and `Applicative` functions and laws, Monad has the following laws, which are\n",
    "**again** similar to the `Monoid` laws.\n",
    "\n",
    "Also the `>>=/=<</join` \"addition\" functions for a `Monad` must be consistent with the addition function `<*>` in `Applicative`, i.e\n",
    "\n",
    "``` haskell\n",
    "f <$> fx <*> fy = fx >>= \\x -> fy >>= \\y -> pure (f x y)\n",
    "```\n",
    "\n",
    "#### Law of Associativity\n",
    "\n",
    "``` haskell\n",
    "(mx >>= g) >>= f === mx >>= (\\x -> g x >>= f)\n",
    "```\n",
    "\n",
    "## Exercises\n",
    "\n",
    "### 1. Write a `Monad` Instance for `ExactlyOne`\n",
    "\n",
    "#### Exercise"
   ]
  },
  {
   "cell_type": "code",
   "execution_count": 11,
   "metadata": {},
   "outputs": [],
   "source": [
    "instance Monad ExactlyOne where\n",
    "  (>>=) :: ExactlyOne a -> (a -> ExactlyOne b) -> ExactlyOne b\n",
    "  (>>=) = _bind"
   ]
  },
  {
   "cell_type": "markdown",
   "metadata": {},
   "source": [
    "#### Try it out"
   ]
  },
  {
   "cell_type": "code",
   "execution_count": 7,
   "metadata": {},
   "outputs": [
    {
     "data": {
      "text/plain": [
       "ExactlyOne 3"
      ]
     },
     "metadata": {},
     "output_type": "display_data"
    }
   ],
   "source": [
    "-- >>> (\\x -> ExactlyOne(x+1)) =<< ExactlyOne 2\n",
    "-- ExactlyOne 3\n",
    "ExactlyOne 2 >>= \\x -> ExactlyOne (x + 1)"
   ]
  },
  {
   "cell_type": "markdown",
   "metadata": {},
   "source": [
    "#### Tests"
   ]
  },
  {
   "cell_type": "code",
   "execution_count": 17,
   "metadata": {},
   "outputs": [
    {
     "data": {
      "text/plain": [
       "Testing: ExactlyOne 2 >>= \\x -> ExactlyOne (x + 1)\n",
       "+++ OK, passed 1 tests."
      ]
     },
     "metadata": {},
     "output_type": "display_data"
    }
   ],
   "source": [
    "exactlyOneTest :: Property\n",
    "exactlyOneTest = once $\n",
    "  (ExactlyOne 2 >>= \\x -> ExactlyOne (x + 1)) === ExactlyOne 3\n",
    "\n",
    "exactlyOneTests :: IO ()\n",
    "exactlyOneTests = runTests [\n",
    "    (\"ExactlyOne 2 >>= \\\\x -> ExactlyOne (x + 1)\", exactlyOneTest)\n",
    "  ]\n",
    "\n",
    "exactlyOneTests"
   ]
  },
  {
   "cell_type": "markdown",
   "metadata": {},
   "source": [
    "### 2. Write a `Monad` Instance for `List`\n",
    "\n",
    "#### Exercise"
   ]
  },
  {
   "cell_type": "code",
   "execution_count": 19,
   "metadata": {},
   "outputs": [],
   "source": [
    "instance Monad List where\n",
    "  (>>=) :: List a -> (a -> List b) -> List b\n",
    "  (>>=) = _bind"
   ]
  },
  {
   "cell_type": "markdown",
   "metadata": {},
   "source": [
    "#### Try it out"
   ]
  },
  {
   "cell_type": "code",
   "execution_count": 20,
   "metadata": {},
   "outputs": [
    {
     "data": {
      "text/plain": [
       "[1,1,2,2,3,3]"
      ]
     },
     "metadata": {},
     "output_type": "display_data"
    }
   ],
   "source": [
    "-- >>> (\\n -> n :. n :. Nil) =<< (1 :. 2 :. 3 :. Nil)\n",
    "-- [1,1,2,2,3,3]\n",
    "(1 :. 2 :. 3 :. Nil) >>= (\\n -> n :. n :. Nil)"
   ]
  },
  {
   "cell_type": "markdown",
   "metadata": {},
   "source": [
    "#### Tests"
   ]
  },
  {
   "cell_type": "code",
   "execution_count": 22,
   "metadata": {},
   "outputs": [
    {
     "data": {
      "text/plain": [
       "Testing: (1 :. 2 :. 3 :. Nil) >>= (\\n -> n :. n :. Nil)\n",
       "+++ OK, passed 1 tests."
      ]
     },
     "metadata": {},
     "output_type": "display_data"
    }
   ],
   "source": [
    "listMonadTest :: Property\n",
    "listMonadTest = once $\n",
    "  ((1 :. 2 :. 3 :. Nil) >>= (\\n -> n :. n :. Nil)) === (1 :. 1 :. 2 :. 2:. 3 :. 3 :. Nil)\n",
    "\n",
    "runListTests :: IO ()\n",
    "runListTests = runTests [\n",
    "    (\"(1 :. 2 :. 3 :. Nil) >>= (\\\\n -> n :. n :. Nil)\", listMonadTest)\n",
    "  ]\n",
    "\n",
    "runListTests"
   ]
  },
  {
   "cell_type": "markdown",
   "metadata": {},
   "source": [
    "### 3. Write `Monad` instance for `Optional`\n",
    "\n",
    "#### Exercise"
   ]
  },
  {
   "cell_type": "code",
   "execution_count": 23,
   "metadata": {},
   "outputs": [],
   "source": [
    "instance Monad Optional where\n",
    "  (>>=) :: Optional a -> (a -> Optional b) -> Optional b\n",
    "  (>>=) = _bind"
   ]
  },
  {
   "cell_type": "markdown",
   "metadata": {},
   "source": [
    "#### Try it out"
   ]
  },
  {
   "cell_type": "code",
   "execution_count": 24,
   "metadata": {},
   "outputs": [
    {
     "data": {
      "text/plain": [
       "Full 14"
      ]
     },
     "metadata": {},
     "output_type": "display_data"
    }
   ],
   "source": [
    "-- >>> (\\n -> Full (n + n)) =<< Full 7\n",
    "-- Full 14\n",
    "Full 7 >>= \\n -> Full (n + n)"
   ]
  },
  {
   "cell_type": "markdown",
   "metadata": {},
   "source": [
    "#### Tests"
   ]
  },
  {
   "cell_type": "code",
   "execution_count": 26,
   "metadata": {},
   "outputs": [
    {
     "data": {
      "text/plain": [
       "Testing: (Empty >>= (\\n -> Full (2 * n))) === Empty\n",
       "+++ OK, passed 1 tests.\n",
       "Testing: forall n. (Full n >>= \\n -> Full (2 * n)) === Full (2 * n)\n",
       "+++ OK, passed 100 tests."
      ]
     },
     "metadata": {},
     "output_type": "display_data"
    }
   ],
   "source": [
    "optionalEmptyTest :: Property\n",
    "optionalEmptyTest = once $\n",
    "  (Empty >>= (\\n -> Full (2 * n))) === Empty\n",
    "\n",
    "optionalFullTest :: Property\n",
    "optionalFullTest = forAll arbitrary $ \\n ->\n",
    "  (Full n >>= \\n -> Full (2 * n)) === Full (2 * n)\n",
    "\n",
    "runOptionalTests :: IO ()\n",
    "runOptionalTests = runTests [\n",
    "    (\"(Empty >>= (\\\\n -> Full (2 * n))) === Empty\", optionalEmptyTest)\n",
    "  , (\"forall n. (Full n >>= \\\\n -> Full (2 * n)) === Full (2 * n)\", optionalFullTest)\n",
    "  ]\n",
    "\n",
    "runOptionalTests"
   ]
  },
  {
   "cell_type": "markdown",
   "metadata": {},
   "source": [
    "### 4. Write a `Monad` Instance for `Reader`\n",
    "\n",
    "Previously this was marked as \"advanced\" but this should be pretty old hat now\n",
    "\n",
    "#### Exercise"
   ]
  },
  {
   "cell_type": "code",
   "execution_count": 30,
   "metadata": {},
   "outputs": [],
   "source": [
    "instance Monad ((->) r) where\n",
    "  (>>=) :: (->) r a -> (a -> (->) r b) -> (->) r b\n",
    "  (>>=) = _bind"
   ]
  },
  {
   "cell_type": "markdown",
   "metadata": {},
   "source": [
    "#### Try it out"
   ]
  },
  {
   "cell_type": "code",
   "execution_count": 47,
   "metadata": {},
   "outputs": [
    {
     "data": {
      "text/plain": [
       "119"
      ]
     },
     "metadata": {},
     "output_type": "display_data"
    }
   ],
   "source": [
    "-- >>> ((*) =<< (+10)) 7\n",
    "-- 119\n",
    "((+10) >>= (*)) 7"
   ]
  },
  {
   "cell_type": "markdown",
   "metadata": {},
   "source": [
    "#### Tests"
   ]
  },
  {
   "cell_type": "code",
   "execution_count": 48,
   "metadata": {},
   "outputs": [
    {
     "data": {
      "text/plain": [
       "Testing: forall n. ((+10) >>= (*)) n === n * (n + 10)\n",
       "+++ OK, passed 100 tests."
      ]
     },
     "metadata": {},
     "output_type": "display_data"
    }
   ],
   "source": [
    "readerBindTest :: Property\n",
    "readerBindTest = forAll arbitrary $ \\n ->\n",
    "  ((+10) >>= (*)) n === n * (n + 10)\n",
    "\n",
    "runReaderBindTests :: IO ()\n",
    "runReaderBindTests = runTests [\n",
    "    (\"forall n. ((+10) >>= (*)) n === n * (n + 10)\", readerBindTest)\n",
    "  ]\n",
    "\n",
    "runReaderBindTests"
   ]
  },
  {
   "cell_type": "markdown",
   "metadata": {},
   "source": [
    "### 5. Reimplement `<*>` using only `Monad` Operations (though `fmap/<$>` is allowed)\n",
    "\n",
    "#### Exercise"
   ]
  },
  {
   "cell_type": "code",
   "execution_count": 33,
   "metadata": {},
   "outputs": [],
   "source": [
    "(<**>) :: (Monad m) => m (a -> b) -> m a -> m b\n",
    "(<**>) = _apply"
   ]
  },
  {
   "cell_type": "markdown",
   "metadata": {},
   "source": [
    "#### Try it out"
   ]
  },
  {
   "cell_type": "code",
   "execution_count": 35,
   "metadata": {},
   "outputs": [
    {
     "data": {
      "text/plain": [
       "ExactlyOne 18"
      ]
     },
     "metadata": {},
     "output_type": "display_data"
    }
   ],
   "source": [
    "-- >>> ExactlyOne (+10) <**> ExactlyOne 8\n",
    "-- ExactlyOne 18\n",
    "ExactlyOne (+10) <**> ExactlyOne 8"
   ]
  },
  {
   "cell_type": "code",
   "execution_count": 37,
   "metadata": {},
   "outputs": [
    {
     "data": {
      "text/plain": [
       "[2,3,4,2,4,6]"
      ]
     },
     "metadata": {},
     "output_type": "display_data"
    }
   ],
   "source": [
    "-- >>> (+1) :. (*2) :. Nil <**> 1 :. 2 :. 3 :. Nil\n",
    "-- [2,3,4,2,4,6]\n",
    "((+1) :. (*2) :. Nil) <**> (1 :. 2 :. 3 :. Nil)"
   ]
  },
  {
   "cell_type": "code",
   "execution_count": 38,
   "metadata": {},
   "outputs": [
    {
     "data": {
      "text/plain": [
       "Full 15"
      ]
     },
     "metadata": {},
     "output_type": "display_data"
    }
   ],
   "source": [
    "-- >>> Full (+8) <**> Full 7\n",
    "-- Full 15\n",
    "Full (+8) <**> Full 7"
   ]
  },
  {
   "cell_type": "code",
   "execution_count": 39,
   "metadata": {},
   "outputs": [
    {
     "data": {
      "text/plain": [
       "Empty"
      ]
     },
     "metadata": {},
     "output_type": "display_data"
    }
   ],
   "source": [
    "-- >>> Empty <**> Full 7\n",
    "-- Empty\n",
    "Empty <**> Full 7"
   ]
  },
  {
   "cell_type": "code",
   "execution_count": 40,
   "metadata": {},
   "outputs": [
    {
     "data": {
      "text/plain": [
       "Empty"
      ]
     },
     "metadata": {},
     "output_type": "display_data"
    }
   ],
   "source": [
    "-- >>> Full (+8) <**> Empty\n",
    "-- Empty\n",
    "Full (+8) <**> Empty"
   ]
  },
  {
   "cell_type": "code",
   "execution_count": 41,
   "metadata": {},
   "outputs": [
    {
     "data": {
      "text/plain": [
       "16"
      ]
     },
     "metadata": {},
     "output_type": "display_data"
    }
   ],
   "source": [
    "-- >>> ((+) <**> (+10)) 3\n",
    "-- 16\n",
    "((+) <**> (+10)) 3"
   ]
  },
  {
   "cell_type": "code",
   "execution_count": 42,
   "metadata": {},
   "outputs": [
    {
     "data": {
      "text/plain": [
       "11"
      ]
     },
     "metadata": {},
     "output_type": "display_data"
    }
   ],
   "source": [
    "-- >>> ((+) <**> (+5)) 3\n",
    "-- 11\n",
    "((+) <**> (+5)) 3"
   ]
  },
  {
   "cell_type": "code",
   "execution_count": 43,
   "metadata": {},
   "outputs": [
    {
     "data": {
      "text/plain": [
       "7"
      ]
     },
     "metadata": {},
     "output_type": "display_data"
    }
   ],
   "source": [
    "-- >>> ((+) <**> (+5)) 1\n",
    "-- 7\n",
    "((+) <**> (+5)) 1"
   ]
  },
  {
   "cell_type": "code",
   "execution_count": 44,
   "metadata": {},
   "outputs": [
    {
     "data": {
      "text/plain": [
       "39"
      ]
     },
     "metadata": {},
     "output_type": "display_data"
    }
   ],
   "source": [
    "-- >>> ((*) <**> (+10)) 3\n",
    "-- 39\n",
    "((*) <**> (+10)) 3"
   ]
  },
  {
   "cell_type": "code",
   "execution_count": 45,
   "metadata": {},
   "outputs": [
    {
     "data": {
      "text/plain": [
       "15"
      ]
     },
     "metadata": {},
     "output_type": "display_data"
    }
   ],
   "source": [
    "-- >>> ((*) <**> (+2)) 3\n",
    "-- 15\n",
    "((*) <**> (+2)) 3"
   ]
  },
  {
   "cell_type": "markdown",
   "metadata": {},
   "source": [
    "#### Tests"
   ]
  },
  {
   "cell_type": "code",
   "execution_count": 58,
   "metadata": {},
   "outputs": [
    {
     "data": {
      "text/plain": [
       "Testing: (ExactlyOne (+10) <**> ExactlyOne 8) === ExactlyOne 18\n",
       "+++ OK, passed 1 tests.\n",
       "Testing: (((+1) :. (*2) :. Nil) <**> (1 :. 2 :. 3 :. Nil)) === (2 :. 3 :. 4 :. 2 :. 4 :. 6 :. Nil)\n",
       "+++ OK, passed 1 tests.\n",
       "Testing: forall n. (Full (+8) <**> Full n) === Full (n + 8)\n",
       "+++ OK, passed 100 tests.\n",
       "Testing: forall n. (Empty <**> Full n) === Empty\n",
       "+++ OK, passed 100 tests.\n",
       "Testing: (Full (+8) <**> Empty) === Empty\n",
       "+++ OK, passed 1 tests.\n",
       "Testing: forall x, y. (+) <**> (+ y)) x === (x + (x + y))\n",
       "+++ OK, passed 100 tests.\n",
       "Testing: forall x, y. (*) <**> (+ y)) x === (x * (x + y))\n",
       "+++ OK, passed 100 tests."
      ]
     },
     "metadata": {},
     "output_type": "display_data"
    }
   ],
   "source": [
    "applyExactlyOne :: Property\n",
    "applyExactlyOne = once $\n",
    "  (ExactlyOne (+10) <**> ExactlyOne 8) === ExactlyOne 18\n",
    "\n",
    "applyList :: Property\n",
    "applyList = once $\n",
    "  (((+1) :. (*2) :. Nil) <**> (1 :. 2 :. 3 :. Nil)) === (2 :. 3 :. 4 :. 2 :. 4 :. 6 :. Nil)\n",
    "\n",
    "applyOptionalFull :: Property\n",
    "applyOptionalFull = forAll arbitrary $ \\n ->\n",
    "  (Full (+8) <**> Full n) === Full (n + 8)\n",
    "\n",
    "applyOptionalEmptyFirst :: Property\n",
    "applyOptionalEmptyFirst = forAll arbitrary $ \\n ->\n",
    "  (Empty <**> Full n) === Empty\n",
    "\n",
    "applyOptionalEmptySecond :: Property\n",
    "applyOptionalEmptySecond = once $\n",
    "  (Full (+8) <**> Empty) === Empty\n",
    "\n",
    "applyReaderPlusPlus :: Property\n",
    "applyReaderPlusPlus =\n",
    "  let\n",
    "    pairs :: Gen (Int, Int)\n",
    "    pairs = do\n",
    "      x <- arbitrary\n",
    "      y <- arbitrary\n",
    "      P.return (x, y)\n",
    "  in forAll pairs $ \\(x, y) ->\n",
    "    ((+) <**> (+ y)) x === (x + (x + y))\n",
    "    \n",
    "applyReaderMultPlus :: Property\n",
    "applyReaderMultPlus =\n",
    "  let\n",
    "    pairs :: Gen (Int, Int)\n",
    "    pairs = do\n",
    "      x <- arbitrary\n",
    "      y <- arbitrary\n",
    "      P.return (x, y)\n",
    "  in forAll pairs $ \\(x, y) ->\n",
    "    ((*) <**> (+ y)) x === (x * (x + y))\n",
    "\n",
    "applyTests :: IO ()\n",
    "applyTests = runTests [\n",
    "    (\"(ExactlyOne (+10) <**> ExactlyOne 8) === ExactlyOne 18\", applyExactlyOne)\n",
    "  , (\"(((+1) :. (*2) :. Nil) <**> (1 :. 2 :. 3 :. Nil)) === (2 :. 3 :. 4 :. 2 :. 4 :. 6 :. Nil)\", applyList)\n",
    "  , (\"forall n. (Full (+8) <**> Full n) === Full (n + 8)\", applyOptionalFull)\n",
    "  , (\"forall n. (Empty <**> Full n) === Empty\", applyOptionalEmptyFirst)\n",
    "  , (\"(Full (+8) <**> Empty) === Empty\", applyOptionalEmptySecond)\n",
    "  , (\"forall x, y. (+) <**> (+ y)) x === (x + (x + y))\", applyReaderPlusPlus)\n",
    "  , (\"forall x, y. (*) <**> (+ y)) x === (x * (x + y))\", applyReaderMultPlus)\n",
    "  ]\n",
    "\n",
    "applyTests"
   ]
  },
  {
   "cell_type": "markdown",
   "metadata": {},
   "source": [
    "### 6. `join`\n",
    "\n",
    "Flattens nested structure into a single level structure\n",
    "\n",
    "#### Exercise"
   ]
  },
  {
   "cell_type": "code",
   "execution_count": 59,
   "metadata": {},
   "outputs": [],
   "source": [
    "join :: (Monad m) => m (m a) -> m a\n",
    "join = _join"
   ]
  },
  {
   "cell_type": "markdown",
   "metadata": {},
   "source": [
    "#### Try it out"
   ]
  },
  {
   "cell_type": "code",
   "execution_count": 60,
   "metadata": {},
   "outputs": [
    {
     "data": {
      "text/plain": [
       "[1,2,3,1,2]"
      ]
     },
     "metadata": {},
     "output_type": "display_data"
    }
   ],
   "source": [
    "-- >>> join ((1 :. 2 :. 3 :. Nil) :. (1 :. 2 :. Nil) :. Nil)\n",
    "-- [1,2,3,1,2]\n",
    "join ((1 :. 2 :. 3 :. Nil) :. (1 :. 2 :. Nil) :. Nil)"
   ]
  },
  {
   "cell_type": "code",
   "execution_count": 61,
   "metadata": {},
   "outputs": [
    {
     "data": {
      "text/plain": [
       "Empty"
      ]
     },
     "metadata": {},
     "output_type": "display_data"
    }
   ],
   "source": [
    "-- >>> join (Full Empty)\n",
    "-- Empty\n",
    "join (Full Empty)"
   ]
  },
  {
   "cell_type": "code",
   "execution_count": 62,
   "metadata": {},
   "outputs": [
    {
     "data": {
      "text/plain": [
       "Full 7"
      ]
     },
     "metadata": {},
     "output_type": "display_data"
    }
   ],
   "source": [
    "-- >>> join (Full (Full 7))\n",
    "-- Full 7\n",
    "join (Full (Full 7))"
   ]
  },
  {
   "cell_type": "code",
   "execution_count": 63,
   "metadata": {},
   "outputs": [
    {
     "data": {
      "text/plain": [
       "14"
      ]
     },
     "metadata": {},
     "output_type": "display_data"
    }
   ],
   "source": [
    "-- >>> join (+) 7\n",
    "-- 14\n",
    "join (+) 7"
   ]
  },
  {
   "cell_type": "markdown",
   "metadata": {},
   "source": [
    "#### Tests"
   ]
  },
  {
   "cell_type": "code",
   "execution_count": 69,
   "metadata": {},
   "outputs": [
    {
     "data": {
      "text/plain": [
       "Testing: (join ((1 :. 2 :. 3 :. Nil) :. (1 :. 2 :. Nil) :. Nil)) === (1 :. 2 :. 3 :. 1 :. 2 :. Nil)\n",
       "+++ OK, passed 1 tests.\n",
       "Testing: forall n. join (+) n === n + n === 2 * n\n",
       "+++ OK, passed 100 tests.\n",
       "Testing: join (Full Empty) === Empty\n",
       "+++ OK, passed 1 tests.\n",
       "Testing: forall n. join (Full (Full n)) === Full n\n",
       "+++ OK, passed 100 tests."
      ]
     },
     "metadata": {},
     "output_type": "display_data"
    }
   ],
   "source": [
    "flattenList :: Property\n",
    "flattenList = once $\n",
    "  (join ((1 :. 2 :. 3 :. Nil) :. (1 :. 2 :. Nil) :. Nil)) === (1 :. 2 :. 3 :. 1 :. 2 :. Nil)\n",
    "  \n",
    "joinOptional1 :: Property\n",
    "joinOptional1 = once $\n",
    "  join (Full Empty) === Empty\n",
    "  \n",
    "joinOptional2 :: Property\n",
    "joinOptional2 = forAll arbitrary $ \\n ->\n",
    "  join (Full (Full n)) === Full n\n",
    "  \n",
    "\n",
    "joinPlus :: Property\n",
    "joinPlus = forAll arbitrary $ \\n ->\n",
    "  join (+) n === 2 * n\n",
    "  \n",
    "runJoinTests :: IO ()\n",
    "runJoinTests = runTests [\n",
    "    (\"(join ((1 :. 2 :. 3 :. Nil) :. (1 :. 2 :. Nil) :. Nil)) === (1 :. 2 :. 3 :. 1 :. 2 :. Nil)\", flattenList)\n",
    "  , (\"forall n. join (+) n === n + n === 2 * n\", joinPlus)\n",
    "  , (\"join (Full Empty) === Empty\", joinOptional1)\n",
    "  , (\"forall n. join (Full (Full n)) === Full n\", joinOptional2)\n",
    "  ]\n",
    "\n",
    "runJoinTests"
   ]
  },
  {
   "cell_type": "markdown",
   "metadata": {},
   "source": [
    "### 7. Kleisli Composition\n",
    "\n",
    "Functions of the form `a -> m b` for `m` some `Monad` are referred to as [Kleisli arrows](https://wiki.haskell.org/Arrow_tutorial)\n",
    "\n",
    "Write a function to compose them. The type of `<=<` also explains the objective, so it can also resolve some\n",
    "confusion if there is any.\n",
    "\n",
    "#### Exercise"
   ]
  },
  {
   "cell_type": "code",
   "execution_count": 70,
   "metadata": {},
   "outputs": [],
   "source": [
    "(<=<) :: (Monad m) => (b -> m c) -> (a -> m b) -> (a -> m c)\n",
    "(<=<) = _kleisli"
   ]
  },
  {
   "cell_type": "markdown",
   "metadata": {},
   "source": [
    "#### Try it out"
   ]
  },
  {
   "cell_type": "code",
   "execution_count": 71,
   "metadata": {},
   "outputs": [
    {
     "data": {
      "text/plain": [
       "[2,2,3,3]"
      ]
     },
     "metadata": {},
     "output_type": "display_data"
    }
   ],
   "source": [
    "-- >>> ((\\n -> n :. n :. Nil) <=< (\\n -> n+1 :. n+2 :. Nil)) 1\n",
    "-- [2,2,3,3]\n",
    "((\\n -> n :. n :. Nil) <=< (\\n -> n + 1 :. n + 2 :. Nil)) 1"
   ]
  },
  {
   "cell_type": "markdown",
   "metadata": {},
   "source": [
    "#### Tests"
   ]
  },
  {
   "cell_type": "code",
   "execution_count": 75,
   "metadata": {},
   "outputs": [
    {
     "data": {
      "text/plain": [
       "Testing: ((\\n -> n :. n :. Nil) <=< (\\n -> n + 1 :. n + 2 :. Nil)) m === (m + 1 :. m + 1:. m + 2 :. m + 2 :. Nil)\n",
       "+++ OK, passed 100 tests."
      ]
     },
     "metadata": {},
     "output_type": "display_data"
    }
   ],
   "source": [
    "kleisliList :: Property\n",
    "kleisliList = forAll arbitrary $ \\m ->\n",
    "  ((\\n -> n :. n :. Nil) <=< (\\n -> n + 1 :. n + 2 :. Nil)) m === (m + 1 :. m + 1 :. m + 2 :. m + 2 :. Nil)\n",
    "\n",
    "kleisliTests :: IO ()\n",
    "kleisliTests = runTests [\n",
    "    (\"((\\\\n -> n :. n :. Nil) <=< (\\\\n -> n + 1 :. n + 2 :. Nil)) m === (m + 1 :. m + 1:. m + 2 :. m + 2 :. Nil)\", kleisliList)\n",
    "  ]\n",
    "\n",
    "kleisliTests"
   ]
  }
 ],
 "metadata": {
  "kernelspec": {
   "display_name": "Haskell",
   "language": "haskell",
   "name": "haskell"
  },
  "language_info": {
   "codemirror_mode": "ihaskell",
   "file_extension": ".hs",
   "name": "haskell",
   "version": "8.2.2"
  }
 },
 "nbformat": 4,
 "nbformat_minor": 2
}
