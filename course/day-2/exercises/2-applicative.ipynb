{
 "cells": [
  {
   "cell_type": "markdown",
   "metadata": {},
   "source": [
    "# Applicative Exercises\n",
    "\n",
    "## IGNORE (Configuration and Dependencies)"
   ]
  },
  {
   "cell_type": "code",
   "execution_count": 1,
   "metadata": {},
   "outputs": [],
   "source": [
    ":set -XNoImplicitPrelude\n",
    ":set -XTypeSynonymInstances\n",
    ":set -XInstanceSigs\n",
    ":load ../../original-source/Course/Core.hs\n",
    ":load ../../original-source/Course/ExactlyOne.hs\n",
    ":load ../../original-source/Course/Optional.hs\n",
    ":load ../../original-source/Course/List.hs\n",
    ":load ../../original-source/Course/Functor.hs\n",
    "import qualified Prelude as P\n",
    "import Data.Foldable (for_, traverse_)\n",
    "import Test.QuickCheck\n",
    "\n",
    "runTests :: [(P.String, Property)] -> IO ()\n",
    "runTests tests = for_ tests $ \\(name, prop) -> do\n",
    "  P.putStrLn $ \"Testing: \" P.++ name\n",
    "  quickCheck prop"
   ]
  },
  {
   "cell_type": "markdown",
   "metadata": {},
   "source": [
    "## The Applicative Typeclass\n",
    "\n",
    "### Definition"
   ]
  },
  {
   "cell_type": "code",
   "execution_count": 2,
   "metadata": {},
   "outputs": [],
   "source": [
    "class (Functor f) => Applicative f where\n",
    "-- mempty   :: a\n",
    "  pure :: a -> f a\n",
    "  -- an alpha numeric name breaks the elegance of the usage\n",
    "  -- of this (<*>) operator, please wait and see\n",
    "  -- But we refer to it as \"Apply\"\n",
    "-- mappend :: a          -> a   -> a\n",
    "  (<*>)    :: f (a -> b) -> f a -> f b\n",
    "\n",
    "infixl 4 <*>"
   ]
  },
  {
   "cell_type": "markdown",
   "metadata": {},
   "source": [
    "**Discuss what the `(Functor f) =>` part means**\n",
    "\n",
    "### Laws\n",
    "\n",
    "All instances of the `Applicative` type class must satisfy the following laws\n",
    "\n",
    "The laws can look quite baffling when you see them even in their \"simplest\" form,\n",
    "Each one has a correspondence to a `Monoid` law however, which may be easier to\n",
    "grok, I will supply the `Monoid` law in each case so that you can hopefully get a\n",
    "qualitative understanding of it.\n",
    "\n",
    "#### The law of left Identity\n",
    "\n",
    "`pure f <*>` is *equivalent* to `fmap f` which as we learnt in the previous module,\n",
    "**does nothing to the structure, it just applies `f` inside**.\n",
    "\n",
    "You might have wondered what `pure` is or does.\n",
    "\n",
    "*This defines pure*, in terms of `<*>`.\n",
    "\n",
    "```\n",
    "∀x. pure f <*> x ≅ f <$> x\n",
    "```\n",
    "\n",
    "Just as `mempty` in `Monoid` is *defined* to be the value such that `mappend mempty` *does nothing* to its\n",
    "input, `pure` is similarly defined.\n",
    "\n",
    "This corresponds to the *left* part of the *Identity Law* for Monoids:\n",
    "\n",
    "```\n",
    "∀x. mempty <> x ≅ x\n",
    "```\n",
    "\n",
    "#### The law of right Identity\n",
    "\n",
    "`<*> pure x` is *equivalent* to sending x inside the structure and applying the function inside to it.\n",
    "\n",
    "```\n",
    "∀mf x. mf <*> pure x ≅ fmap (\\f -> f x) mf\n",
    "```\n",
    "\n",
    "This corresponds to the *right* part of the *Identity Law* for Monoids.\n",
    "\n",
    "```\n",
    "∀x. x <> mempty ≅ x\n",
    "```\n",
    "\n",
    "#### The law of associativity\n",
    "\n",
    "```\n",
    "∀u v w. pure (.) <*> u <*> v <*> w ≅ u <*> (v <*> w)\n",
    "```\n",
    "\n",
    "**Discuss this one amongst the group (Now or leave till later).**\n",
    "\n",
    "This corresponds to the *associative law* for Monoids:\n",
    "\n",
    "```\n",
    "(x <> y) <> z ≅ x <> (y <> z)\n",
    "```\n",
    "\n",
    "### Motivation\n",
    "\n",
    "Understanding of the problem this typeclass solves is left until *after* the exercises, please be patient and save deep questions for later.\n",
    "\n",
    "Suffice it to say, the `Functor` abstraction only gets us so far, `Applicative` picks up the baton and carries us through the next level.\n",
    "\n",
    "### Example Instance"
   ]
  },
  {
   "cell_type": "code",
   "execution_count": 3,
   "metadata": {},
   "outputs": [],
   "source": [
    "instance Applicative ExactlyOne where\n",
    "  pure :: a -> ExactlyOne a\n",
    "  pure = ExactlyOne\n",
    "  \n",
    "  (<*>) :: ExactlyOne (a -> b) -> ExactlyOne a -> ExactlyOne b\n",
    "  (ExactlyOne f) <*> (ExactlyOne x) = ExactlyOne (f x)"
   ]
  },
  {
   "cell_type": "markdown",
   "metadata": {},
   "source": [
    "Play around with this a bit:"
   ]
  },
  {
   "cell_type": "code",
   "execution_count": 4,
   "metadata": {},
   "outputs": [
    {
     "data": {
      "text/plain": [
       "12"
      ]
     },
     "metadata": {},
     "output_type": "display_data"
    }
   ],
   "source": [
    "add3 :: Int -> Int -> Int -> Int\n",
    "add3 x y z = x + y + z\n",
    "\n",
    "add3 2 4 6"
   ]
  },
  {
   "cell_type": "code",
   "execution_count": 5,
   "metadata": {},
   "outputs": [
    {
     "data": {
      "text/plain": [
       "ExactlyOne 12"
      ]
     },
     "metadata": {},
     "output_type": "display_data"
    }
   ],
   "source": [
    "add3 <$> ExactlyOne 2 <*> ExactlyOne 4 <*> ExactlyOne 6"
   ]
  },
  {
   "cell_type": "markdown",
   "metadata": {},
   "source": [
    "Break this up a bit:"
   ]
  },
  {
   "cell_type": "code",
   "execution_count": 6,
   "metadata": {},
   "outputs": [
    {
     "data": {
      "text/html": [
       "<style>/* Styles used for the Hoogle display in the pager */\n",
       ".hoogle-doc {\n",
       "display: block;\n",
       "padding-bottom: 1.3em;\n",
       "padding-left: 0.4em;\n",
       "}\n",
       ".hoogle-code {\n",
       "display: block;\n",
       "font-family: monospace;\n",
       "white-space: pre;\n",
       "}\n",
       ".hoogle-text {\n",
       "display: block;\n",
       "}\n",
       ".hoogle-name {\n",
       "color: green;\n",
       "font-weight: bold;\n",
       "}\n",
       ".hoogle-head {\n",
       "font-weight: bold;\n",
       "}\n",
       ".hoogle-sub {\n",
       "display: block;\n",
       "margin-left: 0.4em;\n",
       "}\n",
       ".hoogle-package {\n",
       "font-weight: bold;\n",
       "font-style: italic;\n",
       "}\n",
       ".hoogle-module {\n",
       "font-weight: bold;\n",
       "}\n",
       ".hoogle-class {\n",
       "font-weight: bold;\n",
       "}\n",
       ".get-type {\n",
       "color: green;\n",
       "font-weight: bold;\n",
       "font-family: monospace;\n",
       "display: block;\n",
       "white-space: pre-wrap;\n",
       "}\n",
       ".show-type {\n",
       "color: green;\n",
       "font-weight: bold;\n",
       "font-family: monospace;\n",
       "margin-left: 1em;\n",
       "}\n",
       ".mono {\n",
       "font-family: monospace;\n",
       "display: block;\n",
       "}\n",
       ".err-msg {\n",
       "color: red;\n",
       "font-style: italic;\n",
       "font-family: monospace;\n",
       "white-space: pre;\n",
       "display: block;\n",
       "}\n",
       "#unshowable {\n",
       "color: red;\n",
       "font-weight: bold;\n",
       "}\n",
       ".err-msg.in.collapse {\n",
       "padding-top: 0.7em;\n",
       "}\n",
       ".highlight-code {\n",
       "white-space: pre;\n",
       "font-family: monospace;\n",
       "}\n",
       ".suggestion-warning { \n",
       "font-weight: bold;\n",
       "color: rgb(200, 130, 0);\n",
       "}\n",
       ".suggestion-error { \n",
       "font-weight: bold;\n",
       "color: red;\n",
       "}\n",
       ".suggestion-name {\n",
       "font-weight: bold;\n",
       "}\n",
       "</style><span class='get-type'>add3 2 :: Int -> Int -> Int</span>"
      ],
      "text/plain": [
       "add3 2 :: Int -> Int -> Int"
      ]
     },
     "metadata": {},
     "output_type": "display_data"
    },
    {
     "data": {
      "text/html": [
       "<style>/* Styles used for the Hoogle display in the pager */\n",
       ".hoogle-doc {\n",
       "display: block;\n",
       "padding-bottom: 1.3em;\n",
       "padding-left: 0.4em;\n",
       "}\n",
       ".hoogle-code {\n",
       "display: block;\n",
       "font-family: monospace;\n",
       "white-space: pre;\n",
       "}\n",
       ".hoogle-text {\n",
       "display: block;\n",
       "}\n",
       ".hoogle-name {\n",
       "color: green;\n",
       "font-weight: bold;\n",
       "}\n",
       ".hoogle-head {\n",
       "font-weight: bold;\n",
       "}\n",
       ".hoogle-sub {\n",
       "display: block;\n",
       "margin-left: 0.4em;\n",
       "}\n",
       ".hoogle-package {\n",
       "font-weight: bold;\n",
       "font-style: italic;\n",
       "}\n",
       ".hoogle-module {\n",
       "font-weight: bold;\n",
       "}\n",
       ".hoogle-class {\n",
       "font-weight: bold;\n",
       "}\n",
       ".get-type {\n",
       "color: green;\n",
       "font-weight: bold;\n",
       "font-family: monospace;\n",
       "display: block;\n",
       "white-space: pre-wrap;\n",
       "}\n",
       ".show-type {\n",
       "color: green;\n",
       "font-weight: bold;\n",
       "font-family: monospace;\n",
       "margin-left: 1em;\n",
       "}\n",
       ".mono {\n",
       "font-family: monospace;\n",
       "display: block;\n",
       "}\n",
       ".err-msg {\n",
       "color: red;\n",
       "font-style: italic;\n",
       "font-family: monospace;\n",
       "white-space: pre;\n",
       "display: block;\n",
       "}\n",
       "#unshowable {\n",
       "color: red;\n",
       "font-weight: bold;\n",
       "}\n",
       ".err-msg.in.collapse {\n",
       "padding-top: 0.7em;\n",
       "}\n",
       ".highlight-code {\n",
       "white-space: pre;\n",
       "font-family: monospace;\n",
       "}\n",
       ".suggestion-warning { \n",
       "font-weight: bold;\n",
       "color: rgb(200, 130, 0);\n",
       "}\n",
       ".suggestion-error { \n",
       "font-weight: bold;\n",
       "color: red;\n",
       "}\n",
       ".suggestion-name {\n",
       "font-weight: bold;\n",
       "}\n",
       "</style><span class='get-type'>appExample :: ExactlyOne (Int -> Int -> Int)</span>"
      ],
      "text/plain": [
       "appExample :: ExactlyOne (Int -> Int -> Int)"
      ]
     },
     "metadata": {},
     "output_type": "display_data"
    }
   ],
   "source": [
    "appExample = add3 <$> ExactlyOne 2\n",
    ":t add3 2\n",
    ":t appExample"
   ]
  },
  {
   "cell_type": "code",
   "execution_count": 7,
   "metadata": {},
   "outputs": [
    {
     "data": {
      "text/html": [
       "<style>/* Styles used for the Hoogle display in the pager */\n",
       ".hoogle-doc {\n",
       "display: block;\n",
       "padding-bottom: 1.3em;\n",
       "padding-left: 0.4em;\n",
       "}\n",
       ".hoogle-code {\n",
       "display: block;\n",
       "font-family: monospace;\n",
       "white-space: pre;\n",
       "}\n",
       ".hoogle-text {\n",
       "display: block;\n",
       "}\n",
       ".hoogle-name {\n",
       "color: green;\n",
       "font-weight: bold;\n",
       "}\n",
       ".hoogle-head {\n",
       "font-weight: bold;\n",
       "}\n",
       ".hoogle-sub {\n",
       "display: block;\n",
       "margin-left: 0.4em;\n",
       "}\n",
       ".hoogle-package {\n",
       "font-weight: bold;\n",
       "font-style: italic;\n",
       "}\n",
       ".hoogle-module {\n",
       "font-weight: bold;\n",
       "}\n",
       ".hoogle-class {\n",
       "font-weight: bold;\n",
       "}\n",
       ".get-type {\n",
       "color: green;\n",
       "font-weight: bold;\n",
       "font-family: monospace;\n",
       "display: block;\n",
       "white-space: pre-wrap;\n",
       "}\n",
       ".show-type {\n",
       "color: green;\n",
       "font-weight: bold;\n",
       "font-family: monospace;\n",
       "margin-left: 1em;\n",
       "}\n",
       ".mono {\n",
       "font-family: monospace;\n",
       "display: block;\n",
       "}\n",
       ".err-msg {\n",
       "color: red;\n",
       "font-style: italic;\n",
       "font-family: monospace;\n",
       "white-space: pre;\n",
       "display: block;\n",
       "}\n",
       "#unshowable {\n",
       "color: red;\n",
       "font-weight: bold;\n",
       "}\n",
       ".err-msg.in.collapse {\n",
       "padding-top: 0.7em;\n",
       "}\n",
       ".highlight-code {\n",
       "white-space: pre;\n",
       "font-family: monospace;\n",
       "}\n",
       ".suggestion-warning { \n",
       "font-weight: bold;\n",
       "color: rgb(200, 130, 0);\n",
       "}\n",
       ".suggestion-error { \n",
       "font-weight: bold;\n",
       "color: red;\n",
       "}\n",
       ".suggestion-name {\n",
       "font-weight: bold;\n",
       "}\n",
       "</style><span class='get-type'>add3 2 4 :: Int -> Int</span>"
      ],
      "text/plain": [
       "add3 2 4 :: Int -> Int"
      ]
     },
     "metadata": {},
     "output_type": "display_data"
    },
    {
     "data": {
      "text/html": [
       "<style>/* Styles used for the Hoogle display in the pager */\n",
       ".hoogle-doc {\n",
       "display: block;\n",
       "padding-bottom: 1.3em;\n",
       "padding-left: 0.4em;\n",
       "}\n",
       ".hoogle-code {\n",
       "display: block;\n",
       "font-family: monospace;\n",
       "white-space: pre;\n",
       "}\n",
       ".hoogle-text {\n",
       "display: block;\n",
       "}\n",
       ".hoogle-name {\n",
       "color: green;\n",
       "font-weight: bold;\n",
       "}\n",
       ".hoogle-head {\n",
       "font-weight: bold;\n",
       "}\n",
       ".hoogle-sub {\n",
       "display: block;\n",
       "margin-left: 0.4em;\n",
       "}\n",
       ".hoogle-package {\n",
       "font-weight: bold;\n",
       "font-style: italic;\n",
       "}\n",
       ".hoogle-module {\n",
       "font-weight: bold;\n",
       "}\n",
       ".hoogle-class {\n",
       "font-weight: bold;\n",
       "}\n",
       ".get-type {\n",
       "color: green;\n",
       "font-weight: bold;\n",
       "font-family: monospace;\n",
       "display: block;\n",
       "white-space: pre-wrap;\n",
       "}\n",
       ".show-type {\n",
       "color: green;\n",
       "font-weight: bold;\n",
       "font-family: monospace;\n",
       "margin-left: 1em;\n",
       "}\n",
       ".mono {\n",
       "font-family: monospace;\n",
       "display: block;\n",
       "}\n",
       ".err-msg {\n",
       "color: red;\n",
       "font-style: italic;\n",
       "font-family: monospace;\n",
       "white-space: pre;\n",
       "display: block;\n",
       "}\n",
       "#unshowable {\n",
       "color: red;\n",
       "font-weight: bold;\n",
       "}\n",
       ".err-msg.in.collapse {\n",
       "padding-top: 0.7em;\n",
       "}\n",
       ".highlight-code {\n",
       "white-space: pre;\n",
       "font-family: monospace;\n",
       "}\n",
       ".suggestion-warning { \n",
       "font-weight: bold;\n",
       "color: rgb(200, 130, 0);\n",
       "}\n",
       ".suggestion-error { \n",
       "font-weight: bold;\n",
       "color: red;\n",
       "}\n",
       ".suggestion-name {\n",
       "font-weight: bold;\n",
       "}\n",
       "</style><span class='get-type'>appExample2 :: ExactlyOne (Int -> Int)</span>"
      ],
      "text/plain": [
       "appExample2 :: ExactlyOne (Int -> Int)"
      ]
     },
     "metadata": {},
     "output_type": "display_data"
    }
   ],
   "source": [
    "appExample2 = add3 <$> ExactlyOne 2 <*> ExactlyOne 4\n",
    ":t add3 2 4\n",
    ":t appExample2"
   ]
  },
  {
   "cell_type": "code",
   "execution_count": 8,
   "metadata": {},
   "outputs": [
    {
     "data": {
      "text/html": [
       "<style>/* Styles used for the Hoogle display in the pager */\n",
       ".hoogle-doc {\n",
       "display: block;\n",
       "padding-bottom: 1.3em;\n",
       "padding-left: 0.4em;\n",
       "}\n",
       ".hoogle-code {\n",
       "display: block;\n",
       "font-family: monospace;\n",
       "white-space: pre;\n",
       "}\n",
       ".hoogle-text {\n",
       "display: block;\n",
       "}\n",
       ".hoogle-name {\n",
       "color: green;\n",
       "font-weight: bold;\n",
       "}\n",
       ".hoogle-head {\n",
       "font-weight: bold;\n",
       "}\n",
       ".hoogle-sub {\n",
       "display: block;\n",
       "margin-left: 0.4em;\n",
       "}\n",
       ".hoogle-package {\n",
       "font-weight: bold;\n",
       "font-style: italic;\n",
       "}\n",
       ".hoogle-module {\n",
       "font-weight: bold;\n",
       "}\n",
       ".hoogle-class {\n",
       "font-weight: bold;\n",
       "}\n",
       ".get-type {\n",
       "color: green;\n",
       "font-weight: bold;\n",
       "font-family: monospace;\n",
       "display: block;\n",
       "white-space: pre-wrap;\n",
       "}\n",
       ".show-type {\n",
       "color: green;\n",
       "font-weight: bold;\n",
       "font-family: monospace;\n",
       "margin-left: 1em;\n",
       "}\n",
       ".mono {\n",
       "font-family: monospace;\n",
       "display: block;\n",
       "}\n",
       ".err-msg {\n",
       "color: red;\n",
       "font-style: italic;\n",
       "font-family: monospace;\n",
       "white-space: pre;\n",
       "display: block;\n",
       "}\n",
       "#unshowable {\n",
       "color: red;\n",
       "font-weight: bold;\n",
       "}\n",
       ".err-msg.in.collapse {\n",
       "padding-top: 0.7em;\n",
       "}\n",
       ".highlight-code {\n",
       "white-space: pre;\n",
       "font-family: monospace;\n",
       "}\n",
       ".suggestion-warning { \n",
       "font-weight: bold;\n",
       "color: rgb(200, 130, 0);\n",
       "}\n",
       ".suggestion-error { \n",
       "font-weight: bold;\n",
       "color: red;\n",
       "}\n",
       ".suggestion-name {\n",
       "font-weight: bold;\n",
       "}\n",
       "</style><span class='get-type'>add3 2 4 6 :: Int</span>"
      ],
      "text/plain": [
       "add3 2 4 6 :: Int"
      ]
     },
     "metadata": {},
     "output_type": "display_data"
    },
    {
     "data": {
      "text/html": [
       "<style>/* Styles used for the Hoogle display in the pager */\n",
       ".hoogle-doc {\n",
       "display: block;\n",
       "padding-bottom: 1.3em;\n",
       "padding-left: 0.4em;\n",
       "}\n",
       ".hoogle-code {\n",
       "display: block;\n",
       "font-family: monospace;\n",
       "white-space: pre;\n",
       "}\n",
       ".hoogle-text {\n",
       "display: block;\n",
       "}\n",
       ".hoogle-name {\n",
       "color: green;\n",
       "font-weight: bold;\n",
       "}\n",
       ".hoogle-head {\n",
       "font-weight: bold;\n",
       "}\n",
       ".hoogle-sub {\n",
       "display: block;\n",
       "margin-left: 0.4em;\n",
       "}\n",
       ".hoogle-package {\n",
       "font-weight: bold;\n",
       "font-style: italic;\n",
       "}\n",
       ".hoogle-module {\n",
       "font-weight: bold;\n",
       "}\n",
       ".hoogle-class {\n",
       "font-weight: bold;\n",
       "}\n",
       ".get-type {\n",
       "color: green;\n",
       "font-weight: bold;\n",
       "font-family: monospace;\n",
       "display: block;\n",
       "white-space: pre-wrap;\n",
       "}\n",
       ".show-type {\n",
       "color: green;\n",
       "font-weight: bold;\n",
       "font-family: monospace;\n",
       "margin-left: 1em;\n",
       "}\n",
       ".mono {\n",
       "font-family: monospace;\n",
       "display: block;\n",
       "}\n",
       ".err-msg {\n",
       "color: red;\n",
       "font-style: italic;\n",
       "font-family: monospace;\n",
       "white-space: pre;\n",
       "display: block;\n",
       "}\n",
       "#unshowable {\n",
       "color: red;\n",
       "font-weight: bold;\n",
       "}\n",
       ".err-msg.in.collapse {\n",
       "padding-top: 0.7em;\n",
       "}\n",
       ".highlight-code {\n",
       "white-space: pre;\n",
       "font-family: monospace;\n",
       "}\n",
       ".suggestion-warning { \n",
       "font-weight: bold;\n",
       "color: rgb(200, 130, 0);\n",
       "}\n",
       ".suggestion-error { \n",
       "font-weight: bold;\n",
       "color: red;\n",
       "}\n",
       ".suggestion-name {\n",
       "font-weight: bold;\n",
       "}\n",
       "</style><span class='get-type'>appExample :: ExactlyOne Int</span>"
      ],
      "text/plain": [
       "appExample :: ExactlyOne Int"
      ]
     },
     "metadata": {},
     "output_type": "display_data"
    },
    {
     "data": {
      "text/plain": [
       "ExactlyOne 12"
      ]
     },
     "metadata": {},
     "output_type": "display_data"
    }
   ],
   "source": [
    "appExample = add3 <$> ExactlyOne 2 <*> ExactlyOne 4 <*> ExactlyOne 6\n",
    ":t add3 2 4 6\n",
    ":t appExample\n",
    "appExample"
   ]
  },
  {
   "cell_type": "markdown",
   "metadata": {},
   "source": [
    "## Exercises\n",
    "\n",
    "### 1. Write a `Applicative` instance for `List`\n",
    "\n",
    "There is a valid instance of `Applicative` for the `List` data type.\n",
    "\n",
    "Implement `pure` and `<*>` for `List`\n",
    "\n",
    "#### Exercise"
   ]
  },
  {
   "cell_type": "code",
   "execution_count": 15,
   "metadata": {},
   "outputs": [],
   "source": [
    "instance Applicative List where\n",
    "  pure :: a -> List a\n",
    "  pure = _pure\n",
    "  \n",
    "  (<*>) :: List (a -> b) -> List a -> List b\n",
    "  (<*>) = _apply\n",
    "  "
   ]
  },
  {
   "cell_type": "markdown",
   "metadata": {},
   "source": [
    "#### Examples"
   ]
  },
  {
   "cell_type": "code",
   "execution_count": 16,
   "metadata": {},
   "outputs": [
    {
     "data": {
      "text/plain": [
       "[4,5,6,8,10,12]"
      ]
     },
     "metadata": {},
     "output_type": "display_data"
    }
   ],
   "source": [
    "-- >>> (*) <$> 1 :. 2 :. Nil <*> 4 :. 5 :. 6 :. Nil\n",
    "-- [4,5,6,8,10,12]\n",
    "(*) <$> 1 :. 2 :. Nil <*> 4 :. 5 :. 6 :. Nil"
   ]
  },
  {
   "cell_type": "code",
   "execution_count": 17,
   "metadata": {},
   "outputs": [
    {
     "data": {
      "text/plain": [
       "[2,3,4,2,4,6]"
      ]
     },
     "metadata": {},
     "output_type": "display_data"
    }
   ],
   "source": [
    "-- >>> (+1) :. (*2) :. Nil <*> 1 :. 2 :. 3 :. Nil\n",
    "-- [2,3,4,2,4,6]\n",
    "(+1) :. (*2) :. Nil <*> 1 :. 2 :. 3 :. Nil"
   ]
  },
  {
   "cell_type": "markdown",
   "metadata": {},
   "source": [
    "#### Tests (Do not modify these, just run them)"
   ]
  },
  {
   "cell_type": "code",
   "execution_count": 18,
   "metadata": {},
   "outputs": [
    {
     "data": {
      "text/plain": [
       "Testing: pure x == x :. Nil\n",
       "+++ OK, passed 100 tests.\n",
       "Testing: (+1) :. (*2) :. Nil <*> 1 :. 2 :. 3 :. Nil == 2 :. 3 :. 4 :. 2 :. 4 :. 6 :. Nil\n",
       "+++ OK, passed 1 tests."
      ]
     },
     "metadata": {},
     "output_type": "display_data"
    }
   ],
   "source": [
    "-- prop> pure x == x :. Nil\n",
    "listPureTest :: Property\n",
    "listPureTest = forAll (arbitrary :: Gen Int) $ \\int -> pure int === int :. Nil\n",
    "\n",
    "-- >>> (+1) :. (*2) :. Nil <*> 1 :. 2 :. 3 :. Nil\n",
    "-- [2,3,4,2,4,6]\n",
    "listApTest :: Property\n",
    "listApTest =\n",
    "  let\n",
    "    lhs = (+1) :. (*2) :. Nil <*> 1 :. 2 :. 3 :. Nil\n",
    "    rhs = 2 :. 3 :. 4 :. 2 :. 4 :. 6 :. Nil\n",
    "  in once $ lhs === rhs\n",
    "\n",
    "testList :: IO ()\n",
    "testList = runTests [\n",
    "    (\"pure x == x :. Nil\", listPureTest)\n",
    "  , (\"(+1) :. (*2) :. Nil <*> 1 :. 2 :. 3 :. Nil == 2 :. 3 :. 4 :. 2 :. 4 :. 6 :. Nil\", listApTest)\n",
    "  ]\n",
    "\n",
    "testList"
   ]
  },
  {
   "cell_type": "markdown",
   "metadata": {},
   "source": [
    "### 2. Work backwards and derive `<$>` from `Applicative`\n",
    "\n",
    "Even if we didn't have the `Functor f` constraint in the definition of `Applicative`,\n",
    "`pure`, `<*>` and the laws imply the existence of `fmap / <$>`.\n",
    "\n",
    "Prove this for yourself. Implement `fmap` below (we will call it `<$$>` this time) without calling `fmap` or `<$>`.\n",
    "\n",
    "#### Exercise"
   ]
  },
  {
   "cell_type": "code",
   "execution_count": 19,
   "metadata": {},
   "outputs": [],
   "source": [
    "(<$$>) :: (Applicative f) => (a -> b) -> f a -> f b\n",
    "(<$$>) = _fmap"
   ]
  },
  {
   "cell_type": "markdown",
   "metadata": {},
   "source": [
    "#### Play around with it"
   ]
  },
  {
   "cell_type": "code",
   "execution_count": 20,
   "metadata": {},
   "outputs": [
    {
     "data": {
      "text/plain": [
       "[]"
      ]
     },
     "metadata": {},
     "output_type": "display_data"
    }
   ],
   "source": [
    "-- >>> (+1) <$$> Nil\n",
    "-- Nil\n",
    "(+1) <$$> Nil"
   ]
  },
  {
   "cell_type": "code",
   "execution_count": 21,
   "metadata": {},
   "outputs": [
    {
     "data": {
      "text/plain": [
       "[2,3,4]"
      ]
     },
     "metadata": {},
     "output_type": "display_data"
    }
   ],
   "source": [
    "-- >>> (+1) <$$> (1 :. 2 :. 3 :. Nil)\n",
    "(+1) <$$> (1 :. 2 :. 3 :. Nil)"
   ]
  },
  {
   "cell_type": "markdown",
   "metadata": {},
   "source": [
    "#### Tests (Do not modify these, just run them)"
   ]
  },
  {
   "cell_type": "code",
   "execution_count": 22,
   "metadata": {},
   "outputs": [
    {
     "data": {
      "text/plain": [
       "Testing: (+1) <$$> (ExactlyOne 2) === ExactlyOne 3\n",
       "+++ OK, passed 1 tests.\n",
       "Testing: ((+1) <$$> Nil) === Nil\n",
       "+++ OK, passed 1 tests.\n",
       "Testing: (+ 1) <$$> (1 :. 2 :. 3 :. Nil) === (2 :. 3 :. 4 :. Nil)\n",
       "+++ OK, passed 1 tests."
      ]
     },
     "metadata": {},
     "output_type": "display_data"
    }
   ],
   "source": [
    "apFmapTest1 :: Property\n",
    "apFmapTest1 =\n",
    "  let\n",
    "    lhs = (+1) <$$> (ExactlyOne 2)\n",
    "    \n",
    "    rhs :: ExactlyOne Int\n",
    "    rhs = ExactlyOne 3\n",
    "  in once $ lhs === rhs\n",
    "\n",
    "apFmapTest2 :: Property\n",
    "apFmapTest2 = once $\n",
    "  ((+1) <$$> Nil) === Nil\n",
    "\n",
    "apFmapTest3 :: Property\n",
    "apFmapTest3 = once $\n",
    "  (+ 1) <$$> (1 :. 2 :. 3 :. Nil) === (2 :. 3 :. 4 :. Nil)\n",
    "\n",
    "apFmapTests :: IO ()\n",
    "apFmapTests = runTests [\n",
    "    (\"(+1) <$$> (ExactlyOne 2) === ExactlyOne 3\", apFmapTest1)\n",
    "  , (\"((+1) <$$> Nil) === Nil\", apFmapTest2)\n",
    "  , (\"(+ 1) <$$> (1 :. 2 :. 3 :. Nil) === (2 :. 3 :. 4 :. Nil)\", apFmapTest3)\n",
    "  ]\n",
    "\n",
    "apFmapTests"
   ]
  },
  {
   "cell_type": "markdown",
   "metadata": {},
   "source": [
    "### 3. Write `Applicative` instance for `Optional`\n",
    "\n",
    "#### Exercise"
   ]
  },
  {
   "cell_type": "code",
   "execution_count": 24,
   "metadata": {},
   "outputs": [],
   "source": [
    "instance Applicative Optional where\n",
    "  pure :: a -> Optional a\n",
    "  pure = _pure\n",
    "  \n",
    "  (<*>) :: Optional (a -> b) -> Optional a -> Optional b\n",
    "  (<*>) = _apply"
   ]
  },
  {
   "cell_type": "markdown",
   "metadata": {},
   "source": [
    "#### Play around with it"
   ]
  },
  {
   "cell_type": "code",
   "execution_count": 25,
   "metadata": {},
   "outputs": [
    {
     "data": {
      "text/plain": [
       "Full 15"
      ]
     },
     "metadata": {},
     "output_type": "display_data"
    }
   ],
   "source": [
    "-- >>> Full (+8) <*> Full 7\n",
    "-- Full 15\n",
    "Full (+8) <*> Full 7"
   ]
  },
  {
   "cell_type": "code",
   "execution_count": 26,
   "metadata": {},
   "outputs": [
    {
     "data": {
      "text/plain": [
       "Empty"
      ]
     },
     "metadata": {},
     "output_type": "display_data"
    }
   ],
   "source": [
    "-- >>> Empty <*> Full 7\n",
    "-- Empty\n",
    "Empty <*> Full 7"
   ]
  },
  {
   "cell_type": "markdown",
   "metadata": {},
   "source": [
    "#### Tests (Do not modify these, just run them)"
   ]
  },
  {
   "cell_type": "code",
   "execution_count": 27,
   "metadata": {},
   "outputs": [
    {
     "data": {
      "text/plain": [
       "Testing: pure int === Full int\n",
       "+++ OK, passed 100 tests.\n",
       "Testing: Full (+8) <*> Full 7 === Full 15\n",
       "+++ OK, passed 1 tests.\n",
       "Testing: (Empty <*> Full string) === Empty\n",
       "+++ OK, passed 100 tests.\n",
       "Testing: (Full (+ int) <*> Empty) === Empty\n",
       "+++ OK, passed 100 tests."
      ]
     },
     "metadata": {},
     "output_type": "display_data"
    }
   ],
   "source": [
    "optionalPureTest :: Property\n",
    "optionalPureTest =\n",
    "  forAll (arbitrary :: Gen Int) $ \\int ->\n",
    "    pure int === Full int\n",
    "\n",
    "optionalFullFull :: Property\n",
    "optionalFullFull = once $\n",
    "  (Full (+8) <*> Full 7) === Full 15\n",
    "\n",
    "optionalEmptyFull :: Property\n",
    "optionalEmptyFull = forAll (arbitrary :: Gen P.String) $ \\string ->\n",
    "  (Empty <*> Full string) === (Empty :: Optional Int)\n",
    "\n",
    "optionalFullEmpty :: Property\n",
    "optionalFullEmpty = forAll (arbitrary :: Gen Int) $ \\int ->\n",
    "  (Full (+ int) <*> Empty) === Empty\n",
    "\n",
    "\n",
    "optionalTests :: IO ()\n",
    "optionalTests = runTests [\n",
    "    (\"pure int === Full int\", optionalPureTest)\n",
    "  , (\"Full (+8) <*> Full 7 === Full 15\", optionalFullFull)\n",
    "  , (\"(Empty <*> Full string) === Empty\", optionalEmptyFull)\n",
    "  , (\"(Full (+ int) <*> Empty) === Empty\", optionalFullEmpty)\n",
    "  ]\n",
    "\n",
    "optionalTests"
   ]
  },
  {
   "cell_type": "markdown",
   "metadata": {},
   "source": [
    "### 4. Lift a binary function\n",
    "\n",
    "`fmap` \"lifts\" a unary function, its type signature is:\n",
    "\n",
    "``` haskell\n",
    "fmap :: (Functor f) => (a -> b) -> f a -> f b\n",
    "```\n",
    "\n",
    "If we give `fmap` a binary function then the output type `b`\n",
    "is a unary function, i.e `b ~ c -> d` and type looks like:\n",
    "\n",
    "``` haskell\n",
    "fmap :: (Functor f) => (a -> c -> d) -> f a -> f (c -> d)\n",
    "```\n",
    "\n",
    "But we want:\n",
    "\n",
    "``` haskell\n",
    "lift2 :: (Applicative f) => (a -> c -> d) -> f a -> f c -> f d\n",
    "```\n",
    "\n",
    "#### Exercise"
   ]
  },
  {
   "cell_type": "code",
   "execution_count": 28,
   "metadata": {},
   "outputs": [],
   "source": [
    "lift2 :: (Applicative f) => (a -> b -> c) -> f a -> f b -> f c\n",
    "lift2 = _lift2"
   ]
  },
  {
   "cell_type": "markdown",
   "metadata": {},
   "source": [
    "#### Play around with it"
   ]
  },
  {
   "cell_type": "code",
   "execution_count": 29,
   "metadata": {},
   "outputs": [
    {
     "data": {
      "text/plain": [
       "[5,6,6,7,7,8]"
      ]
     },
     "metadata": {},
     "output_type": "display_data"
    }
   ],
   "source": [
    "-- >>> lift2 (+) (1 :. 2 :. 3 :. Nil) (4 :. 5 :. Nil)\n",
    "-- [5,6,6,7,7,8]\n",
    "lift2 (+) (1 :. 2 :. 3 :. Nil) (4 :. 5 :. Nil)"
   ]
  },
  {
   "cell_type": "code",
   "execution_count": 30,
   "metadata": {},
   "outputs": [
    {
     "data": {
      "text/plain": [
       "Full 15"
      ]
     },
     "metadata": {},
     "output_type": "display_data"
    }
   ],
   "source": [
    "-- >>> lift2 (+) (Full 7) (Full 8)\n",
    "-- Full 15\n",
    "lift2 (+) (Full 7) (Full 8)"
   ]
  },
  {
   "cell_type": "code",
   "execution_count": 31,
   "metadata": {},
   "outputs": [
    {
     "data": {
      "text/plain": [
       "Empty"
      ]
     },
     "metadata": {},
     "output_type": "display_data"
    }
   ],
   "source": [
    "-- >>> lift2 (+) (Full 7) Empty\n",
    "-- Empty\n",
    "lift2 (+) (Full 7) Empty"
   ]
  },
  {
   "cell_type": "code",
   "execution_count": 32,
   "metadata": {},
   "outputs": [
    {
     "data": {
      "text/plain": [
       "Empty"
      ]
     },
     "metadata": {},
     "output_type": "display_data"
    }
   ],
   "source": [
    "-- >>> lift2 (+) Empty (Full 8)\n",
    "-- Empty\n",
    "lift2 (+) Empty (Full 8)"
   ]
  },
  {
   "cell_type": "markdown",
   "metadata": {},
   "source": [
    "#### Tests (Do not modify these, just run them)"
   ]
  },
  {
   "cell_type": "code",
   "execution_count": 33,
   "metadata": {},
   "outputs": [
    {
     "data": {
      "text/plain": [
       "Testing: lift2 (+) (1 :. 2 :. 3 :. Nil) (4 :. 5 :. Nil) === 5 :. 6 :. 6 :. 7 :. 7 :. 8 :. Nil\n",
       "+++ OK, passed 1 tests.\n",
       "Testing: lift2 (+) (Full 7) (Full 8) === Full 15\n",
       "+++ OK, passed 1 tests.\n",
       "Testing: lift2 (+) (Full 7) Empty === Empty\n",
       "+++ OK, passed 1 tests."
      ]
     },
     "metadata": {},
     "output_type": "display_data"
    }
   ],
   "source": [
    "lift2Test1 :: Property\n",
    "lift2Test1 =\n",
    "  let\n",
    "    lhs :: List Int\n",
    "    lhs = lift2 (+) (1 :. 2 :. 3 :. Nil) (4 :. 5 :. Nil)\n",
    "    rhs = 5 :. 6 :. 6 :. 7 :. 7 :. 8 :. Nil\n",
    "  in once $ lhs === rhs\n",
    "\n",
    "lift2Test2 :: Property\n",
    "lift2Test2 = once $\n",
    "  lift2 (+) (Full 7) (Full 8) === Full 15\n",
    "\n",
    "lift2Test3 :: Property\n",
    "lift2Test3 = once $\n",
    "  lift2 (+) (Full 7) Empty === Empty\n",
    "\n",
    "runLift2Tests :: IO ()\n",
    "runLift2Tests = runTests [\n",
    "    (\"lift2 (+) (1 :. 2 :. 3 :. Nil) (4 :. 5 :. Nil) === 5 :. 6 :. 6 :. 7 :. 7 :. 8 :. Nil\", lift2Test1)\n",
    "  , (\"lift2 (+) (Full 7) (Full 8) === Full 15\", lift2Test2)\n",
    "  , (\"lift2 (+) (Full 7) Empty === Empty\", lift2Test3)\n",
    "  ]\n",
    "\n",
    "runLift2Tests"
   ]
  },
  {
   "cell_type": "markdown",
   "metadata": {},
   "source": [
    "### Lift a ternary function\n",
    "\n",
    "#### Exercise"
   ]
  },
  {
   "cell_type": "code",
   "execution_count": 34,
   "metadata": {},
   "outputs": [],
   "source": [
    "lift3 :: (Applicative f) => (a -> b -> c -> d) -> f a -> f b -> f c -> f d\n",
    "lift3 = _lift3"
   ]
  },
  {
   "cell_type": "markdown",
   "metadata": {},
   "source": [
    "#### Play around with it"
   ]
  },
  {
   "cell_type": "code",
   "execution_count": 35,
   "metadata": {},
   "outputs": [
    {
     "data": {
      "text/plain": [
       "ExactlyOne 24"
      ]
     },
     "metadata": {},
     "output_type": "display_data"
    }
   ],
   "source": [
    "-- >>> lift3 (\\a b c -> a + b + c) (ExactlyOne 7) (ExactlyOne 8) (ExactlyOne 9)\n",
    "-- ExactlyOne 24\n",
    "lift3 (\\a b c -> a + b + c) (ExactlyOne 7) (ExactlyOne 8) (ExactlyOne 9)"
   ]
  },
  {
   "cell_type": "code",
   "execution_count": 36,
   "metadata": {},
   "outputs": [
    {
     "data": {
      "text/plain": [
       "[11,12,13,12,13,14,12,13,14,13,14,15,13,14,15,14,15,16]"
      ]
     },
     "metadata": {},
     "output_type": "display_data"
    }
   ],
   "source": [
    "-- >>> lift3 (\\a b c -> a + b + c) (1 :. 2 :. 3 :. Nil) (4 :. 5 :. Nil) (6 :. 7 :. 8 :. Nil)\n",
    "-- [11,12,13,12,13,14,12,13,14,13,14,15,13,14,15,14,15,16]\n",
    "lift3 (\\a b c -> a + b + c) (1 :. 2 :. 3 :. Nil) (4 :. 5 :. Nil) (6 :. 7 :. 8 :. Nil)"
   ]
  },
  {
   "cell_type": "code",
   "execution_count": 37,
   "metadata": {},
   "outputs": [
    {
     "data": {
      "text/plain": [
       "Full 24"
      ]
     },
     "metadata": {},
     "output_type": "display_data"
    }
   ],
   "source": [
    "-- >>> lift3 (\\a b c -> a + b + c) (Full 7) (Full 8) (Full 9)\n",
    "-- Full 24\n",
    "lift3 (\\a b c -> a + b + c) (Full 7) (Full 8) (Full 9)"
   ]
  },
  {
   "cell_type": "code",
   "execution_count": 38,
   "metadata": {},
   "outputs": [
    {
     "data": {
      "text/plain": [
       "Empty"
      ]
     },
     "metadata": {},
     "output_type": "display_data"
    }
   ],
   "source": [
    "-- >>> lift3 (\\a b c -> a + b + c) (Full 7) (Full 8) Empty\n",
    "-- Empty\n",
    "lift3 (\\a b c -> a + b + c) (Full 7) (Full 8) Empty"
   ]
  },
  {
   "cell_type": "code",
   "execution_count": 39,
   "metadata": {},
   "outputs": [
    {
     "data": {
      "text/plain": [
       "Empty"
      ]
     },
     "metadata": {},
     "output_type": "display_data"
    }
   ],
   "source": [
    "-- >>> lift3 (\\a b c -> a + b + c) Empty (Full 8) (Full 9)\n",
    "-- Empty\n",
    "lift3 (\\a b c -> a + b + c) Empty (Full 8) (Full 9)"
   ]
  },
  {
   "cell_type": "code",
   "execution_count": 40,
   "metadata": {},
   "outputs": [
    {
     "data": {
      "text/plain": [
       "Empty"
      ]
     },
     "metadata": {},
     "output_type": "display_data"
    }
   ],
   "source": [
    "-- >>> lift3 (\\a b c -> a + b + c) Empty Empty (Full 9)\n",
    "-- Empty\n",
    "lift3 (\\a b c -> a + b + c) Empty Empty (Full 9)"
   ]
  },
  {
   "cell_type": "markdown",
   "metadata": {},
   "source": [
    "#### Tests"
   ]
  },
  {
   "cell_type": "code",
   "execution_count": 41,
   "metadata": {},
   "outputs": [
    {
     "data": {
      "text/plain": [
       "Testing: lift3 (\u0007 b c -> a + b + c) (ExactlyOne 7) (ExactlyOne 8) (ExactlyOne 9) === ExactlyOne 24\n",
       "+++ OK, passed 1 tests.\n",
       "Testing: lift3 (\u0007 b c -> a + b + c) (1 :. 2 :. 3 :. Nil) (4 :. 5 :. Nil) (6 :. 7 :. 8 :. Nil) === [11, 12, 13, 12, 13, 14, 12, 13, 14, 13, 14, 15, 13, 14, 15, 14, 15, 16]\n",
       "+++ OK, passed 1 tests.\n",
       "Testing: lift3 (\u0007 b c -> a + b + c) (Full 7) (Full 8) (Full 9) === Full 24\n",
       "+++ OK, passed 1 tests.\n",
       "Testing: lift3 (\u0007 b c -> a + b + c) (Full 7) (Full 8) Empty === Empty\n",
       "+++ OK, passed 1 tests.\n",
       "Testing: lift3 (\u0007 b c -> a + b + c) Empty (Full 8) (Full 9) === Empty\n",
       "+++ OK, passed 1 tests.\n",
       "Testing: lift3 (\u0007 b c -> a + b + c) Empty Empty (Full 9) === Empty\n",
       "+++ OK, passed 1 tests."
      ]
     },
     "metadata": {},
     "output_type": "display_data"
    }
   ],
   "source": [
    "lift3Test1 :: Property\n",
    "lift3Test1 = once $\n",
    "  lift3 (\\a b c -> a + b + c) (ExactlyOne 7) (ExactlyOne 8) (ExactlyOne 9) === ExactlyOne 24\n",
    "\n",
    "lift3Test2 :: Property\n",
    "lift3Test2 =\n",
    "  let\n",
    "    lhs :: List Int\n",
    "    lhs = lift3 (\\a b c -> a + b + c) (1 :. 2 :. 3 :. Nil) (4 :. 5 :. Nil) (6 :. 7 :. 8 :. Nil)\n",
    "    rhs = P.foldr (:.) Nil [11, 12, 13, 12, 13, 14, 12, 13, 14, 13, 14, 15, 13, 14, 15, 14, 15, 16]\n",
    "  in once $ lhs === rhs\n",
    "\n",
    "lift3Test3 :: Property\n",
    "lift3Test3 = once $\n",
    "  lift3 (\\a b c -> a + b + c) (Full 7) (Full 8) (Full 9) === Full 24\n",
    "\n",
    "lift3Test4 :: Property\n",
    "lift3Test4 = once $\n",
    "  lift3 (\\a b c -> a + b + c) (Full 7) (Full 8) Empty === Empty\n",
    "\n",
    "lift3Test5 :: Property\n",
    "lift3Test5 = once $\n",
    "  lift3 (\\a b c -> a + b + c) Empty (Full 8) (Full 9) === Empty\n",
    "\n",
    "lift3Test6 :: Property\n",
    "lift3Test6 = once $\n",
    "  lift3 (\\a b c -> a + b + c) Empty Empty (Full 9) === Empty\n",
    "\n",
    "runLift3Tests :: IO ()\n",
    "runLift3Tests = runTests [\n",
    "    (\"lift3 (\\a b c -> a + b + c) (ExactlyOne 7) (ExactlyOne 8) (ExactlyOne 9) === ExactlyOne 24\", lift3Test1)\n",
    "  , (\"lift3 (\\a b c -> a + b + c) (1 :. 2 :. 3 :. Nil) (4 :. 5 :. Nil) (6 :. 7 :. 8 :. Nil) === [11, 12, 13, 12, 13, 14, 12, 13, 14, 13, 14, 15, 13, 14, 15, 14, 15, 16]\", lift3Test2)\n",
    "  , (\"lift3 (\\a b c -> a + b + c) (Full 7) (Full 8) (Full 9) === Full 24\", lift3Test3)\n",
    "  , (\"lift3 (\\a b c -> a + b + c) (Full 7) (Full 8) Empty === Empty\", lift3Test4)\n",
    "  , (\"lift3 (\\a b c -> a + b + c) Empty (Full 8) (Full 9) === Empty\", lift3Test5)\n",
    "  , (\"lift3 (\\a b c -> a + b + c) Empty Empty (Full 9) === Empty\", lift3Test6)\n",
    "  ]\n",
    "\n",
    "runLift3Tests"
   ]
  },
  {
   "cell_type": "markdown",
   "metadata": {},
   "source": [
    "### 5. Lift a quarternary function\n",
    "\n",
    "#### Exercise"
   ]
  },
  {
   "cell_type": "code",
   "execution_count": 42,
   "metadata": {},
   "outputs": [],
   "source": [
    "lift4\n",
    "  :: (Applicative f)\n",
    "  => (a -> b -> c -> d -> e)\n",
    "  -> f a -> f b -> f c -> f d -> f e\n",
    "lift4 = _lift4"
   ]
  },
  {
   "cell_type": "markdown",
   "metadata": {},
   "source": [
    "#### Try it out"
   ]
  },
  {
   "cell_type": "code",
   "execution_count": 43,
   "metadata": {},
   "outputs": [
    {
     "data": {
      "text/plain": [
       "ExactlyOne 34"
      ]
     },
     "metadata": {},
     "output_type": "display_data"
    }
   ],
   "source": [
    "-- >>> lift4 (\\a b c d -> a + b + c + d) (ExactlyOne 7) (ExactlyOne 8) (ExactlyOne 9) (ExactlyOne 10)\n",
    "-- ExactlyOne 34\n",
    "lift4 (\\a b c d -> a + b + c + d) (ExactlyOne 7) (ExactlyOne 8) (ExactlyOne 9) (ExactlyOne 10)"
   ]
  },
  {
   "cell_type": "code",
   "execution_count": 44,
   "metadata": {},
   "outputs": [
    {
     "data": {
      "text/plain": [
       "[20,21,21,22,22,23,21,22,22,23,23,24,21,22,22,23,23,24,22,23,23,24,24,25,22,23,23,24,24,25,23,24,24,25,25,26]"
      ]
     },
     "metadata": {},
     "output_type": "display_data"
    }
   ],
   "source": [
    "-- >>> lift4 (\\a b c d -> a + b + c + d) (1 :. 2 :. 3 :. Nil) (4 :. 5 :. Nil) (6 :. 7 :. 8 :. Nil) (9 :. 10 :. Nil)\n",
    "-- [20,21,21,22,22,23,21,22,22,23,23,24,21,22,22,23,23,24,22,23,23,24,24,25,22,23,23,24,24,25,23,24,24,25,25,26]\n",
    "lift4 (\\a b c d -> a + b + c + d) (1 :. 2 :. 3 :. Nil) (4 :. 5 :. Nil) (6 :. 7 :. 8 :. Nil) (9 :. 10 :. Nil)"
   ]
  },
  {
   "cell_type": "code",
   "execution_count": 45,
   "metadata": {},
   "outputs": [
    {
     "data": {
      "text/plain": [
       "Full 34"
      ]
     },
     "metadata": {},
     "output_type": "display_data"
    }
   ],
   "source": [
    "-- >>> lift4 (\\a b c d -> a + b + c + d) (Full 7) (Full 8) (Full 9) (Full 10)\n",
    "-- Full 34\n",
    "lift4 (\\a b c d -> a + b + c + d) (Full 7) (Full 8) (Full 9) (Full 10)"
   ]
  },
  {
   "cell_type": "code",
   "execution_count": 46,
   "metadata": {},
   "outputs": [
    {
     "data": {
      "text/plain": [
       "Empty"
      ]
     },
     "metadata": {},
     "output_type": "display_data"
    }
   ],
   "source": [
    "-- >>> lift4 (\\a b c d -> a + b + c + d) (Full 7) (Full 8) Empty  (Full 10)\n",
    "-- Empty\n",
    "lift4 (\\a b c d -> a + b + c + d) (Full 7) (Full 8) Empty  (Full 10)"
   ]
  },
  {
   "cell_type": "code",
   "execution_count": 47,
   "metadata": {},
   "outputs": [
    {
     "data": {
      "text/plain": [
       "Empty"
      ]
     },
     "metadata": {},
     "output_type": "display_data"
    }
   ],
   "source": [
    "-- >>> lift4 (\\a b c d -> a + b + c + d) Empty (Full 8) (Full 9) (Full 10)\n",
    "-- Empty\n",
    "lift4 (\\a b c d -> a + b + c + d) Empty (Full 8) (Full 9) (Full 10)"
   ]
  },
  {
   "cell_type": "code",
   "execution_count": 48,
   "metadata": {},
   "outputs": [
    {
     "data": {
      "text/plain": [
       "Empty"
      ]
     },
     "metadata": {},
     "output_type": "display_data"
    }
   ],
   "source": [
    "-- >>> lift4 (\\a b c d -> a + b + c + d) Empty Empty (Full 9) (Full 10)\n",
    "-- Empty\n",
    "lift4 (\\a b c d -> a + b + c + d) Empty Empty (Full 9) (Full 10)"
   ]
  },
  {
   "cell_type": "markdown",
   "metadata": {},
   "source": [
    "#### Tests"
   ]
  },
  {
   "cell_type": "code",
   "execution_count": 49,
   "metadata": {},
   "outputs": [
    {
     "data": {
      "text/plain": [
       "Testing: lift4 (\u0007 b c d -> a + b + c + d) (ExactlyOne 7) (ExactlyOne 8) (ExactlyOne 9) (ExactlyOne 10) === ExactlyOne 34\n",
       "+++ OK, passed 1 tests.\n",
       "Testing: lift4 (\u0007 b c d -> a + b + c + d) (1 :. 2 :. 3 :. Nil) (4 :. 5 :. Nil) (6 :. 7 :. 8 :. Nil) (9 :. 10 :. Nil)\n",
       "+++ OK, passed 1 tests.\n",
       "Testing: lift4 (\u0007 b c d -> a + b + c + d) (Full 7) (Full 8) (Full 9) (Full 10) === Full 34\n",
       "+++ OK, passed 1 tests.\n",
       "Testing: lift4 (\u0007 b c d -> a + b + c + d) (Full 7) (Full 8) Empty  (Full 10) === Empty\n",
       "+++ OK, passed 1 tests.\n",
       "Testing: lift4 (\u0007 b c d -> a + b + c + d) Empty (Full 8) (Full 9) (Full 10) == Empty\n",
       "+++ OK, passed 1 tests.\n",
       "Testing: lift4 (\u0007 b c d -> a + b + c + d) Empty Empty (Full 9) (Full 10) === Empty\n",
       "+++ OK, passed 1 tests."
      ]
     },
     "metadata": {},
     "output_type": "display_data"
    }
   ],
   "source": [
    "lift4Test1 :: Property\n",
    "lift4Test1 = once $\n",
    "  lift4 (\\a b c d -> a + b + c + d) (ExactlyOne 7) (ExactlyOne 8) (ExactlyOne 9) (ExactlyOne 10) === ExactlyOne 34\n",
    "\n",
    "lift4Test2 :: Property\n",
    "lift4Test2 =\n",
    "  let\n",
    "    lhs :: List Int\n",
    "    lhs = lift4 (\\a b c d -> a + b + c + d) (1 :. 2 :. 3 :. Nil) (4 :. 5 :. Nil) (6 :. 7 :. 8 :. Nil) (9 :. 10 :. Nil)\n",
    "    rhs = P.foldr (:.) Nil [20,21,21,22,22,23,21,22,22,23,23,24,21,22,22,23,23,24,22,23,23,24,24,25,22,23,23,24,24,25,23,24,24,25,25,26]\n",
    "  in once $ lhs === rhs\n",
    "\n",
    "lift4Test3 :: Property\n",
    "lift4Test3 = once $\n",
    "  lift4 (\\a b c d -> a + b + c + d) (Full 7) (Full 8) (Full 9) (Full 10) === Full 34\n",
    "\n",
    "lift4Test4 :: Property\n",
    "lift4Test4 = once $\n",
    "  lift4 (\\a b c d -> a + b + c + d) (Full 7) (Full 8) Empty  (Full 10) === Empty\n",
    "\n",
    "lift4Test5 :: Property\n",
    "lift4Test5 = once $\n",
    "  lift4 (\\a b c d -> a + b + c + d) Empty (Full 8) (Full 9) (Full 10) === Empty\n",
    "\n",
    "lift4Test6 :: Property\n",
    "lift4Test6 = once $\n",
    "  lift4 (\\a b c d -> a + b + c + d) Empty Empty (Full 9) (Full 10) === Empty\n",
    "\n",
    "lift4Tests :: IO ()\n",
    "lift4Tests = runTests [\n",
    "    (\"lift4 (\\a b c d -> a + b + c + d) (ExactlyOne 7) (ExactlyOne 8) (ExactlyOne 9) (ExactlyOne 10) === ExactlyOne 34\", lift4Test1)\n",
    "  , (\"lift4 (\\a b c d -> a + b + c + d) (1 :. 2 :. 3 :. Nil) (4 :. 5 :. Nil) (6 :. 7 :. 8 :. Nil) (9 :. 10 :. Nil)\", lift4Test2)\n",
    "  , (\"lift4 (\\a b c d -> a + b + c + d) (Full 7) (Full 8) (Full 9) (Full 10) === Full 34\", lift4Test3)\n",
    "  , (\"lift4 (\\a b c d -> a + b + c + d) (Full 7) (Full 8) Empty  (Full 10) === Empty\", lift4Test4)\n",
    "  , (\"lift4 (\\a b c d -> a + b + c + d) Empty (Full 8) (Full 9) (Full 10) == Empty\", lift4Test5)\n",
    "  , (\"lift4 (\\a b c d -> a + b + c + d) Empty Empty (Full 9) (Full 10) === Empty\", lift4Test6)\n",
    "  ]\n",
    "\n",
    "lift4Tests"
   ]
  },
  {
   "cell_type": "markdown",
   "metadata": {},
   "source": [
    "### 6. Apply, discarding the value of the first argument\n",
    "\n",
    "Apply, discarding the value of the first argument.\n",
    "\n",
    "Pronounced, \"right apply\".\n",
    "\n",
    "#### Exercise"
   ]
  },
  {
   "cell_type": "code",
   "execution_count": 51,
   "metadata": {},
   "outputs": [],
   "source": [
    "(*>) :: (Applicative f) => f a -> f b -> f b\n",
    "(*>) = _rightApply"
   ]
  },
  {
   "cell_type": "markdown",
   "metadata": {},
   "source": [
    "#### Play around with it"
   ]
  },
  {
   "cell_type": "code",
   "execution_count": 52,
   "metadata": {},
   "outputs": [
    {
     "data": {
      "text/plain": [
       "[4,5,6,4,5,6,4,5,6]"
      ]
     },
     "metadata": {},
     "output_type": "display_data"
    }
   ],
   "source": [
    "-- >>> (1 :. 2 :. 3 :. Nil) *> (4 :. 5 :. 6 :. Nil)\n",
    "-- [4,5,6,4,5,6,4,5,6]\n",
    "(1 :. 2 :. 3 :. Nil) *> (4 :. 5 :. 6 :. Nil)"
   ]
  },
  {
   "cell_type": "code",
   "execution_count": 53,
   "metadata": {},
   "outputs": [
    {
     "data": {
      "text/plain": [
       "[4,5,6,4,5,6]"
      ]
     },
     "metadata": {},
     "output_type": "display_data"
    }
   ],
   "source": [
    "-- >>> (1 :. 2 :. Nil) *> (4 :. 5 :. 6 :. Nil)\n",
    "-- [4,5,6,4,5,6]\n",
    "(1 :. 2 :. Nil) *> (4 :. 5 :. 6 :. Nil)"
   ]
  },
  {
   "cell_type": "code",
   "execution_count": 54,
   "metadata": {},
   "outputs": [
    {
     "data": {
      "text/plain": [
       "[4,5,4,5,4,5]"
      ]
     },
     "metadata": {},
     "output_type": "display_data"
    }
   ],
   "source": [
    "-- >>> (1 :. 2 :. 3 :. Nil) *> (4 :. 5 :. Nil)\n",
    "-- [4,5,4,5,4,5]\n",
    "(1 :. 2 :. 3 :. Nil) *> (4 :. 5 :. Nil)"
   ]
  },
  {
   "cell_type": "code",
   "execution_count": 55,
   "metadata": {},
   "outputs": [
    {
     "data": {
      "text/plain": [
       "Full 8"
      ]
     },
     "metadata": {},
     "output_type": "display_data"
    }
   ],
   "source": [
    "-- >>> Full 7 *> Full 8\n",
    "-- Full 8\n",
    "Full 7 *> Full 8"
   ]
  },
  {
   "cell_type": "markdown",
   "metadata": {},
   "source": [
    "#### Tests"
   ]
  },
  {
   "cell_type": "code",
   "execution_count": 56,
   "metadata": {},
   "outputs": [
    {
     "data": {
      "text/plain": [
       "Testing: (1 :. 2 :. 3 :. Nil) *> (4 :. 5 :. 6 :. Nil)\n",
       "+++ OK, passed 1 tests.\n",
       "Testing: (1 :. 2 :. Nil) *> (4 :. 5 :. 6 :. Nil) === (4 :. 5 :. 6 :. 4 :. 5 :. 6 :. Nil)\n",
       "+++ OK, passed 1 tests.\n",
       "Testing: (1 :. 2 :. 3 :. Nil) *> (4 :. 5 :. Nil) === (4 :. 5 :. 4 :. 5 :. 4 :. 5 :. Nil)\n",
       "+++ OK, passed 1 tests.\n",
       "Testing: Full 7 *> Full 8 === Full 8\n",
       "+++ OK, passed 1 tests.\n",
       "Testing: *> over List\n",
       "+++ OK, passed 100 tests.\n",
       "Testing: *> over Optional\n",
       "+++ OK, passed 100 tests."
      ]
     },
     "metadata": {},
     "output_type": "display_data"
    }
   ],
   "source": [
    "rightApplyTest1 :: Property\n",
    "rightApplyTest1 =\n",
    "  let\n",
    "    lhs = (1 :. 2 :. 3 :. Nil) *> (4 :. 5 :. 6 :. Nil)\n",
    "    rhs = P.foldr (:.) Nil [4,5,6,4,5,6,4,5,6]\n",
    "  in once $ lhs === rhs\n",
    "\n",
    "rightApplyTest2 :: Property\n",
    "rightApplyTest2 = once $\n",
    "  (1 :. 2 :. Nil) *> (4 :. 5 :. 6 :. Nil) === (4 :. 5 :. 6 :. 4 :. 5 :. 6 :. Nil)\n",
    "\n",
    "rightApplyTest3 :: Property\n",
    "rightApplyTest3 = once $\n",
    "  (1 :. 2 :. 3 :. Nil) *> (4 :. 5 :. Nil) === (4 :. 5 :. 4 :. 5 :. 4 :. 5 :. Nil)\n",
    "\n",
    "rightApplyTest4 :: Property\n",
    "rightApplyTest4 = once $\n",
    "  Full 7 *> Full 8 === Full 8\n",
    "\n",
    "rightApplyList :: Property\n",
    "rightApplyList =\n",
    "  let\n",
    "    gen :: Gen (Int, Int, Int, Int, Int, Int)\n",
    "    gen = do\n",
    "      a <- arbitrary\n",
    "      b <- arbitrary\n",
    "      c <- arbitrary\n",
    "      x <- arbitrary\n",
    "      y <- arbitrary\n",
    "      z <- arbitrary\n",
    "      P.return (a, b, c, x, y, z)\n",
    "  in forAll gen $ \\(a, b, c, x, y, z) ->\n",
    "    (a :. b :. c :. Nil) *> (x :. y :. z :. Nil) === (x :. y :. z :. x :. y :. z :. x :. y :. z :. Nil)\n",
    "    \n",
    "rightApplyOptional :: Property\n",
    "rightApplyOptional =\n",
    "  let\n",
    "    gen :: Gen (Int, Int)\n",
    "    gen = do\n",
    "      x <- arbitrary\n",
    "      y <- arbitrary\n",
    "      P.return (x, y)\n",
    "  in forAll gen $ \\(x, y) ->\n",
    "    Full x *> Full y === Full y\n",
    "\n",
    "runRightApplyTests :: IO ()\n",
    "runRightApplyTests = runTests [\n",
    "    (\"(1 :. 2 :. 3 :. Nil) *> (4 :. 5 :. 6 :. Nil)\", rightApplyTest1)\n",
    "  , (\"(1 :. 2 :. Nil) *> (4 :. 5 :. 6 :. Nil) === (4 :. 5 :. 6 :. 4 :. 5 :. 6 :. Nil)\", rightApplyTest2)\n",
    "  , (\"(1 :. 2 :. 3 :. Nil) *> (4 :. 5 :. Nil) === (4 :. 5 :. 4 :. 5 :. 4 :. 5 :. Nil)\", rightApplyTest3)\n",
    "  , (\"Full 7 *> Full 8 === Full 8\", rightApplyTest4)\n",
    "  , (\"*> over List\", rightApplyList)\n",
    "  , (\"*> over Optional\", rightApplyOptional)\n",
    "  ]\n",
    "\n",
    "runRightApplyTests"
   ]
  },
  {
   "cell_type": "markdown",
   "metadata": {},
   "source": [
    "### 7. Apply, discarding the value of the second argument\n",
    "\n",
    "Referred to as \"left apply\"\n",
    "\n",
    "#### Exercise"
   ]
  },
  {
   "cell_type": "code",
   "execution_count": 57,
   "metadata": {},
   "outputs": [],
   "source": [
    "(<*) :: (Applicative f) => f a -> f b -> f a\n",
    "(<*) = _leftApply"
   ]
  },
  {
   "cell_type": "markdown",
   "metadata": {},
   "source": [
    "#### Try it out"
   ]
  },
  {
   "cell_type": "code",
   "execution_count": 58,
   "metadata": {},
   "outputs": [
    {
     "data": {
      "text/plain": [
       "[1,1,1,2,2,2,3,3,3]"
      ]
     },
     "metadata": {},
     "output_type": "display_data"
    }
   ],
   "source": [
    "-- >>> (1 :. 2 :. 3 :. Nil) <* (4 :. 5 :. 6 :. Nil)\n",
    "-- [1,1,1,2,2,2,3,3,3]\n",
    "(1 :. 2 :. 3 :. Nil) <* (4 :. 5 :. 6 :. Nil)"
   ]
  },
  {
   "cell_type": "code",
   "execution_count": 59,
   "metadata": {},
   "outputs": [
    {
     "data": {
      "text/plain": [
       "[1,1,1,2,2,2]"
      ]
     },
     "metadata": {},
     "output_type": "display_data"
    }
   ],
   "source": [
    "-- >>> (1 :. 2 :. Nil) <* (4 :. 5 :. 6 :. Nil)\n",
    "-- [1,1,1,2,2,2]\n",
    "(1 :. 2 :. Nil) <* (4 :. 5 :. 6 :. Nil)"
   ]
  },
  {
   "cell_type": "code",
   "execution_count": 60,
   "metadata": {},
   "outputs": [
    {
     "data": {
      "text/plain": [
       "[1,1,2,2,3,3]"
      ]
     },
     "metadata": {},
     "output_type": "display_data"
    }
   ],
   "source": [
    "-- >>> (1 :. 2 :. 3 :. Nil) <* (4 :. 5 :. Nil)\n",
    "-- [1,1,2,2,3,3]\n",
    "(1 :. 2 :. 3 :. Nil) <* (4 :. 5 :. Nil)"
   ]
  },
  {
   "cell_type": "code",
   "execution_count": 61,
   "metadata": {},
   "outputs": [
    {
     "data": {
      "text/plain": [
       "Full 7"
      ]
     },
     "metadata": {},
     "output_type": "display_data"
    }
   ],
   "source": [
    "-- >>> Full 7 <* Full 8\n",
    "-- Full 7\n",
    "Full 7 <* Full 8"
   ]
  },
  {
   "cell_type": "markdown",
   "metadata": {},
   "source": [
    "#### Tests"
   ]
  },
  {
   "cell_type": "code",
   "execution_count": 62,
   "metadata": {},
   "outputs": [
    {
     "data": {
      "text/plain": [
       "Testing: (1 :. 2 :. 3 :. Nil) <* (4 :. 5 :. 6 :. Nil) == ?\n",
       "+++ OK, passed 1 tests.\n",
       "Testing: (1 :. 2 :. Nil) <* (4 :. 5 :. 6 :. Nil) == ?\n",
       "+++ OK, passed 1 tests.\n",
       "Testing: (1 :. 2 :. 3 :. Nil) <* (4 :. 5 :. Nil) == ?\n",
       "+++ OK, passed 1 tests.\n",
       "Testing: (Full 7 <* Full 8) === Full 7\n",
       "+++ OK, passed 1 tests.\n",
       "Testing: <* over Lists\n",
       "+++ OK, passed 100 tests.\n",
       "Testing: <* over Optionals\n",
       "+++ OK, passed 100 tests."
      ]
     },
     "metadata": {},
     "output_type": "display_data"
    }
   ],
   "source": [
    "runLeftApplyTest1 :: Property\n",
    "runLeftApplyTest1 =\n",
    "  let\n",
    "    lhs = (1 :. 2 :. 3 :. Nil) <* (4 :. 5 :. 6 :. Nil)\n",
    "    rhs = P.foldr (:.) Nil [1,1,1,2,2,2,3,3,3]\n",
    "  in once $ lhs === rhs\n",
    "\n",
    "runLeftApplyTest2 :: Property\n",
    "runLeftApplyTest2 =\n",
    "  let\n",
    "    lhs = (1 :. 2 :. Nil) <* (4 :. 5 :. 6 :. Nil)\n",
    "    rhs = P.foldr (:.) Nil [1,1,1,2,2,2]\n",
    "  in once $ lhs === rhs\n",
    "  \n",
    "runLeftApplyTest3 :: Property\n",
    "runLeftApplyTest3 =\n",
    "  let\n",
    "    lhs = (1 :. 2 :. 3 :. Nil) <* (4 :. 5 :. Nil)\n",
    "    rhs = P.foldr (:.) Nil [1,1,2,2,3,3]\n",
    "  in once $ lhs === rhs\n",
    "\n",
    "runLeftApplyTest4 :: Property\n",
    "runLeftApplyTest4 = once $\n",
    "  (Full 7 <* Full 8) === Full 7\n",
    "\n",
    "runLeftApplyList :: Property\n",
    "runLeftApplyList =\n",
    "  let\n",
    "    gen :: Gen (Int, Int, Int, Int, Int, Int)\n",
    "    gen = do\n",
    "      a <- arbitrary\n",
    "      b <- arbitrary\n",
    "      c <- arbitrary\n",
    "      x <- arbitrary\n",
    "      y <- arbitrary\n",
    "      z <- arbitrary\n",
    "      P.return (a, b, c, x, y, z)\n",
    "  in forAll gen $ \\(a, b, c, x, y, z) ->\n",
    "    ((x :. y :. z :. Nil) <* (a :. b :. c :. Nil)) === (x :. x :. x :. y :. y :. y :. z :. z :. z :. Nil)\n",
    "\n",
    "runLeftApplyOptional :: Property\n",
    "runLeftApplyOptional =\n",
    "  let\n",
    "    gen :: Gen (Int, Int)\n",
    "    gen = do\n",
    "      x <- arbitrary\n",
    "      y <- arbitrary\n",
    "      P.return (x, y)\n",
    "  in forAll gen $ \\(x, y) ->\n",
    "    (Full x <* Full y) === Full x\n",
    "\n",
    "runLeftApplyTests :: IO ()\n",
    "runLeftApplyTests = runTests [\n",
    "    (\"(1 :. 2 :. 3 :. Nil) <* (4 :. 5 :. 6 :. Nil) == ?\", runLeftApplyTest1)\n",
    "  , (\"(1 :. 2 :. Nil) <* (4 :. 5 :. 6 :. Nil) == ?\", runLeftApplyTest2)\n",
    "  , (\"(1 :. 2 :. 3 :. Nil) <* (4 :. 5 :. Nil) == ?\", runLeftApplyTest3)\n",
    "  , (\"(Full 7 <* Full 8) === Full 7\", runLeftApplyTest4)\n",
    "  , (\"<* over Lists\", runLeftApplyList)\n",
    "  , (\"<* over Optionals\", runLeftApplyOptional)\n",
    "  ]\n",
    "\n",
    "runLeftApplyTests"
   ]
  },
  {
   "cell_type": "markdown",
   "metadata": {},
   "source": [
    "### 8. `sequence`\n",
    "\n",
    "> Sequences a list of structures to a structure of list\n",
    "\n",
    "Or:\n",
    "\n",
    "> [Transposes](https://encrypted.google.com/search?hl=en&q=define%3A%20transpose) `List` and `f`.\n",
    "\n",
    "#### Exercises"
   ]
  },
  {
   "cell_type": "code",
   "execution_count": 68,
   "metadata": {},
   "outputs": [],
   "source": [
    "sequence :: (Applicative f) => List (f a) -> f (List a)\n",
    "sequence = _sequence"
   ]
  },
  {
   "cell_type": "markdown",
   "metadata": {},
   "source": [
    "#### Try it out"
   ]
  },
  {
   "cell_type": "code",
   "execution_count": 69,
   "metadata": {},
   "outputs": [
    {
     "data": {
      "text/plain": [
       "ExactlyOne [7,8,9]"
      ]
     },
     "metadata": {},
     "output_type": "display_data"
    }
   ],
   "source": [
    "-- >>> sequence (ExactlyOne 7 :. ExactlyOne 8 :. ExactlyOne 9 :. Nil)\n",
    "-- ExactlyOne [7,8,9]\n",
    "sequence (ExactlyOne 7 :. ExactlyOne 8 :. ExactlyOne 9 :. Nil)"
   ]
  },
  {
   "cell_type": "code",
   "execution_count": 70,
   "metadata": {},
   "outputs": [
    {
     "data": {
      "text/plain": [
       "[[1,1],[1,2],[2,1],[2,2],[3,1],[3,2]]"
      ]
     },
     "metadata": {},
     "output_type": "display_data"
    }
   ],
   "source": [
    "-- >>> sequence ((1 :. 2 :. 3 :. Nil) :. (1 :. 2 :. Nil) :. Nil)\n",
    "-- [[1,1],[1,2],[2,1],[2,2],[3,1],[3,2]]\n",
    "sequence ((1 :. 2 :. 3 :. Nil) :. (1 :. 2 :. Nil) :. Nil)"
   ]
  },
  {
   "cell_type": "code",
   "execution_count": 71,
   "metadata": {},
   "outputs": [
    {
     "data": {
      "text/plain": [
       "Empty"
      ]
     },
     "metadata": {},
     "output_type": "display_data"
    }
   ],
   "source": [
    "-- >>> sequence (Full 7 :. Empty :. Nil)\n",
    "-- Empty\n",
    "sequence (Full 7 :. Empty :. Nil)"
   ]
  },
  {
   "cell_type": "code",
   "execution_count": 72,
   "metadata": {},
   "outputs": [
    {
     "data": {
      "text/plain": [
       "Full [7,8]"
      ]
     },
     "metadata": {},
     "output_type": "display_data"
    }
   ],
   "source": [
    "-- >>> sequence (Full 7 :. Full 8 :. Nil)\n",
    "-- Full [7,8]\n",
    "sequence (Full 7 :. Full 8 :. Nil)"
   ]
  },
  {
   "cell_type": "markdown",
   "metadata": {},
   "source": [
    "#### Tests"
   ]
  },
  {
   "cell_type": "code",
   "execution_count": 73,
   "metadata": {},
   "outputs": [
    {
     "data": {
      "text/plain": [
       "Testing: Sequence ExactlyOne\n",
       "+++ OK, passed 1 tests.\n",
       "Testing: Sequence Lists\n",
       "+++ OK, passed 1 tests.\n",
       "Testing: Sequence a List of Optionals with an Empty in it\n",
       "+++ OK, passed 1 tests.\n",
       "Testing: Sequence a List of Optionals with no Emptys in it\n",
       "+++ OK, passed 1 tests."
      ]
     },
     "metadata": {},
     "output_type": "display_data"
    }
   ],
   "source": [
    "sequenceExactlyOne :: Property\n",
    "sequenceExactlyOne =\n",
    "  let\n",
    "    lhs :: ExactlyOne (List Int)\n",
    "    lhs = sequence (ExactlyOne 7 :. ExactlyOne 8 :. ExactlyOne 9 :. Nil)\n",
    "    rhs = ExactlyOne $ 7 :. 8 :. 9 :. Nil\n",
    "  in once $ lhs === rhs\n",
    "\n",
    "sequenceList :: Property\n",
    "sequenceList =\n",
    "  let\n",
    "    lhs :: List (List Int)\n",
    "    lhs = sequence ((1 :. 2 :. 3 :. Nil) :. (1 :. 2 :. Nil) :. Nil)\n",
    "    rhs = fmap (P.foldr (:.) Nil) . P.foldr (:.) Nil $ [[1,1],[1,2],[2,1],[2,2],[3,1],[3,2]]\n",
    "  in once $ lhs === rhs\n",
    "\n",
    "sequenceOptional1 :: Property\n",
    "sequenceOptional1 = once $\n",
    "  sequence (Full 7 :. Empty :. Nil) === Empty\n",
    "\n",
    "sequenceOptional2 :: Property\n",
    "sequenceOptional2 = once $\n",
    "  sequence (Full 7 :. Full 8 :. Nil) === Full (7 :. 8 :. Nil)\n",
    "  \n",
    "\n",
    "runSequenceTests :: IO ()\n",
    "runSequenceTests = runTests [\n",
    "    (\"Sequence ExactlyOne\", sequenceExactlyOne)\n",
    "  , (\"Sequence Lists\", sequenceList)\n",
    "  , (\"Sequence a List of Optionals with an Empty in it\", sequenceOptional1)\n",
    "  , (\"Sequence a List of Optionals with no Emptys in it\", sequenceOptional2)\n",
    "  ]\n",
    "\n",
    "runSequenceTests"
   ]
  },
  {
   "cell_type": "markdown",
   "metadata": {},
   "source": [
    "### 9. `replicateA`\n",
    "\n",
    "Replicate an effect a given number of times.\n",
    "\n",
    "#### Exercise"
   ]
  },
  {
   "cell_type": "code",
   "execution_count": 74,
   "metadata": {},
   "outputs": [
    {
     "data": {
      "text/plain": []
     },
     "metadata": {},
     "output_type": "display_data"
    }
   ],
   "source": [
    "replicateA :: (Applicative f) => Int -> f a -> f (List a)\n",
    "replicateA = _replicateA"
   ]
  },
  {
   "cell_type": "markdown",
   "metadata": {},
   "source": [
    "#### Try it out"
   ]
  },
  {
   "cell_type": "code",
   "execution_count": 75,
   "metadata": {},
   "outputs": [
    {
     "data": {
      "text/plain": [
       "ExactlyOne [\"hi\",\"hi\",\"hi\",\"hi\"]"
      ]
     },
     "metadata": {},
     "output_type": "display_data"
    }
   ],
   "source": [
    "-- >>> replicateA 4 (ExactlyOne \"hi\")\n",
    "-- ExactlyOne [\"hi\",\"hi\",\"hi\",\"hi\"]\n",
    "replicateA 4 (ExactlyOne \"hi\")"
   ]
  },
  {
   "cell_type": "code",
   "execution_count": 76,
   "metadata": {},
   "outputs": [
    {
     "data": {
      "text/plain": [
       "Full [\"hi\",\"hi\",\"hi\",\"hi\"]"
      ]
     },
     "metadata": {},
     "output_type": "display_data"
    }
   ],
   "source": [
    "-- >>> replicateA 4 (Full \"hi\")\n",
    "-- Full [\"hi\",\"hi\",\"hi\",\"hi\"]\n",
    "replicateA 4 (Full \"hi\")"
   ]
  },
  {
   "cell_type": "code",
   "execution_count": 77,
   "metadata": {},
   "outputs": [
    {
     "data": {
      "text/plain": [
       "Empty"
      ]
     },
     "metadata": {},
     "output_type": "display_data"
    }
   ],
   "source": [
    "-- >>> replicateA 4 Empty\n",
    "-- Empty\n",
    "replicateA 4 Empty"
   ]
  },
  {
   "cell_type": "code",
   "execution_count": 78,
   "metadata": {},
   "outputs": [
    {
     "data": {
      "text/plain": [
       "[\"aaa\",\"aab\",\"aac\",\"aba\",\"abb\",\"abc\",\"aca\",\"acb\",\"acc\",\"baa\",\"bab\",\"bac\",\"bba\",\"bbb\",\"bbc\",\"bca\",\"bcb\",\"bcc\",\"caa\",\"cab\",\"cac\",\"cba\",\"cbb\",\"cbc\",\"cca\",\"ccb\",\"ccc\"]"
      ]
     },
     "metadata": {},
     "output_type": "display_data"
    }
   ],
   "source": [
    "-- >>> replicateA 3 ('a' :. 'b' :. 'c' :. Nil)\n",
    "-- [\"aaa\",\"aab\",\"aac\",\"aba\",\"abb\",\"abc\",\"aca\",\"acb\",\"acc\",\"baa\",\"bab\",\"bac\",\"bba\",\"bbb\",\"bbc\",\"bca\",\"bcb\",\"bcc\",\"caa\",\"cab\",\"cac\",\"cba\",\"cbb\",\"cbc\",\"cca\",\"ccb\",\"ccc\"]\n",
    "replicateA 3 ('a' :. 'b' :. 'c' :. Nil)"
   ]
  },
  {
   "cell_type": "markdown",
   "metadata": {},
   "source": [
    "#### Tests"
   ]
  },
  {
   "cell_type": "code",
   "execution_count": 80,
   "metadata": {},
   "outputs": [
    {
     "data": {
      "text/plain": [
       "Testing: Replicate ExactlyOne\n",
       "+++ OK, passed 1 tests.\n",
       "Testing: The length of the returned list should be the same as the length given to replicateA\n",
       "+++ OK, passed 100 tests.\n",
       "Testing: replicateA should be getting its content from the structure/action it received\n",
       "+++ OK, passed 100 tests.\n",
       "Testing: For all n > 0, replicateA n Empty === Empty\n",
       "+++ OK, passed 100 tests.\n",
       "Testing: replicateA 0 Empty === Full []\n",
       "+++ OK, passed 1 tests."
      ]
     },
     "metadata": {},
     "output_type": "display_data"
    }
   ],
   "source": [
    "replicateExactlyOne :: Property\n",
    "replicateExactlyOne = once $\n",
    "  replicateA 4 (ExactlyOne \"hi\") === ExactlyOne (\"hi\" :. \"hi\" :. \"hi\" :. \"hi\" :. Nil)\n",
    "\n",
    "replicateFullOptionalLength :: Property\n",
    "replicateFullOptionalLength = forAll (arbitrary :: Gen (NonNegative Int)) $ \\(NonNegative length') ->\n",
    "  (length <$> replicateA length' (Full \"hi\")) === Full length'\n",
    "\n",
    "replicateFullOptionalContents :: Property\n",
    "replicateFullOptionalContents =\n",
    "  let\n",
    "    gen :: Gen (Int, Int)\n",
    "    gen = do\n",
    "      length' <- (arbitrary :: Gen (NonNegative Int))\n",
    "      content <- (arbitrary :: Gen Int)\n",
    "      case length' of\n",
    "        NonNegative x -> P.return (x, content)\n",
    "  in forAll gen $ \\(length', content) ->\n",
    "    replicateA length' (Full content) === Full (replicate length' content)\n",
    "\n",
    "replicateEmptyOptional :: Property\n",
    "replicateEmptyOptional = forAll (arbitrary :: Gen (Positive Int)) $ \\(Positive n) ->\n",
    "  replicateA n Empty === Empty\n",
    "\n",
    "zeroReplicateOptional :: Property\n",
    "zeroReplicateOptional = once $\n",
    "  replicateA 0 Empty === Full Nil\n",
    "\n",
    "runReplicateTests :: IO ()\n",
    "runReplicateTests = runTests [\n",
    "    (\"Replicate ExactlyOne\", replicateExactlyOne)\n",
    "  , (\"The length of the returned list should be the same as the length given to replicateA\", replicateFullOptionalLength)\n",
    "  , (\"replicateA should be getting its content from the structure/action it received\", replicateFullOptionalContents)\n",
    "  , (\"For all n > 0, replicateA n Empty === Empty\", replicateEmptyOptional)\n",
    "  , (\"replicateA 0 Empty === Full []\", zeroReplicateOptional)\n",
    "  ]\n",
    "\n",
    "runReplicateTests"
   ]
  },
  {
   "cell_type": "markdown",
   "metadata": {},
   "source": [
    "### 10. `filtering`\n",
    "\n",
    "Filter a list with a predicate that produces an effect.\n",
    "\n",
    "#### Exercise"
   ]
  },
  {
   "cell_type": "code",
   "execution_count": 84,
   "metadata": {},
   "outputs": [],
   "source": [
    "filtering :: (Applicative f) => (a -> f Bool) -> List a -> f (List a)\n",
    "filtering = _filtering"
   ]
  },
  {
   "cell_type": "markdown",
   "metadata": {},
   "source": [
    "#### Try it out"
   ]
  },
  {
   "cell_type": "code",
   "execution_count": 85,
   "metadata": {},
   "outputs": [
    {
     "data": {
      "text/plain": [
       "ExactlyOne [4,6]"
      ]
     },
     "metadata": {},
     "output_type": "display_data"
    }
   ],
   "source": [
    "-- >>> filtering (ExactlyOne . even) (4 :. 5 :. 6 :. Nil)\n",
    "-- ExactlyOne [4,6]\n",
    "filtering (ExactlyOne . even) (4 :. 5 :. 6 :. Nil)"
   ]
  },
  {
   "cell_type": "code",
   "execution_count": 86,
   "metadata": {},
   "outputs": [
    {
     "data": {
      "text/plain": [
       "Full [4,5,6]"
      ]
     },
     "metadata": {},
     "output_type": "display_data"
    }
   ],
   "source": [
    "-- >>> filtering (\\a -> if a > 13 then Empty else Full (a <= 7)) (4 :. 5 :. 6 :. Nil)\n",
    "-- Full [4,5,6]\n",
    "filtering (\\a -> if a > 13 then Empty else Full (a <= 7)) (4 :. 5 :. 6 :. Nil)"
   ]
  },
  {
   "cell_type": "code",
   "execution_count": 87,
   "metadata": {},
   "outputs": [
    {
     "data": {
      "text/plain": [
       "Full [4,5,6,7]"
      ]
     },
     "metadata": {},
     "output_type": "display_data"
    }
   ],
   "source": [
    "-- >>> filtering (\\a -> if a > 13 then Empty else Full (a <= 7)) (4 :. 5 :. 6 :. 7 :. 8 :. 9 :. Nil)\n",
    "-- Full [4,5,6,7]\n",
    "filtering (\\a -> if a > 13 then Empty else Full (a <= 7)) (4 :. 5 :. 6 :. 7 :. 8 :. 9 :. Nil)"
   ]
  },
  {
   "cell_type": "code",
   "execution_count": 88,
   "metadata": {},
   "outputs": [
    {
     "data": {
      "text/plain": [
       "Empty"
      ]
     },
     "metadata": {},
     "output_type": "display_data"
    }
   ],
   "source": [
    "-- >>> filtering (\\a -> if a > 13 then Empty else Full (a <= 7)) (4 :. 5 :. 6 :. 13 :. 14 :. Nil)\n",
    "-- Empty\n",
    "filtering (\\a -> if a > 13 then Empty else Full (a <= 7)) (4 :. 5 :. 6 :. 13 :. 14 :. Nil)"
   ]
  },
  {
   "cell_type": "code",
   "execution_count": 115,
   "metadata": {},
   "outputs": [
    {
     "data": {
      "text/plain": [
       "[[1,2,3],[1,2,3],[1,2,3],[1,2,3],[1,2,3],[1,2,3],[1,2,3],[1,2,3]]"
      ]
     },
     "metadata": {},
     "output_type": "display_data"
    }
   ],
   "source": [
    "-- >>> filtering (const $ True :. True :.  Nil) (1 :. 2 :. 3 :. Nil)\n",
    "-- [[1,2,3],[1,2,3],[1,2,3],[1,2,3],[1,2,3],[1,2,3],[1,2,3],[1,2,3]]\n",
    "filtering (const $ True :. True :.  Nil) (1 :. 2 :. 3 :. Nil)"
   ]
  },
  {
   "cell_type": "markdown",
   "metadata": {},
   "source": [
    "#### Tests"
   ]
  },
  {
   "cell_type": "code",
   "execution_count": 118,
   "metadata": {},
   "outputs": [
    {
     "data": {
      "text/plain": [
       "Testing: filtering (ExactlyOne . even) (4 :. 5 :. 6 :. Nil) === ExactlyOne (4 :. 6 :. Nil)\n",
       "+++ OK, passed 1 tests.\n",
       "Testing: filtering (\\a -> if a > 13 then Empty else Full (a <= 7)) (4 :. 5 :. 6 :. Nil) === Full (4 :. 5 :. 6 :. Nil)\n",
       "+++ OK, passed 1 tests.\n",
       "Testing: filtering (\\a -> if a > 13 then Empty else Full (a <= 7)) (4 :. 5 :. 6 :. 7 :. 8 :. 9 :. Nil) === Full (4 :. 5 :. 6 :. Nil)\n",
       "+++ OK, passed 1 tests.\n",
       "Testing: filtering (\\a -> if a > 13 then Empty else Full (a <= 7)) (4 :. 5 :. 6 :. 13 :. 14 :. Nil) === Empty\n",
       "+++ OK, passed 1 tests.\n",
       "Testing: foo\n",
       "+++ OK, passed 1 tests."
      ]
     },
     "metadata": {},
     "output_type": "display_data"
    }
   ],
   "source": [
    "filteringTest1 :: Property\n",
    "filteringTest1 = once $\n",
    "  filtering (ExactlyOne . even) (4 :. 5 :. 6 :. Nil) === ExactlyOne (4 :. 6 :. Nil)\n",
    "\n",
    "filteringTest2 :: Property\n",
    "filteringTest2 = once $\n",
    "  filtering (\\a -> if a > 13 then Empty else Full (a <= 7)) (4 :. 5 :. 6 :. Nil) === Full (4 :. 5 :. 6 :. Nil)\n",
    "\n",
    "filteringTest3 :: Property\n",
    "filteringTest3 =\n",
    "  let\n",
    "    lhs :: Optional (List Int)\n",
    "    lhs = filtering (\\a -> if a > 13 then Empty else Full (a <= 7)) (4 :. 5 :. 6 :. 7 :. 8 :. 9 :. Nil)\n",
    "    rhs = Full (4 :. 5 :. 6 :. 7 :. Nil)\n",
    "  in once $ lhs === rhs\n",
    "\n",
    "filteringTest4 :: Property\n",
    "filteringTest4 =\n",
    "  let\n",
    "    lhs = filtering (\\a -> if a > 13 then Empty else Full (a <= 7)) (4 :. 5 :. 6 :. 13 :. 14 :. Nil)\n",
    "    rhs = Empty\n",
    "  in once $ lhs === rhs\n",
    "\n",
    "filteringTest5 :: Property\n",
    "filteringTest5 =\n",
    "  let\n",
    "    lhs = filtering (const $ True :. True :.  Nil) (1 :. 2 :. 3 :. Nil)\n",
    "    rhs = replicate 8 (1 :. 2 :. 3 :. Nil)\n",
    "  in once $ lhs === rhs\n",
    "\n",
    "runFilteringTests :: IO ()\n",
    "runFilteringTests = runTests [\n",
    "    (\"filtering (ExactlyOne . even) (4 :. 5 :. 6 :. Nil) === ExactlyOne (4 :. 6 :. Nil)\", filteringTest1)\n",
    "  , (\"filtering (\\\\a -> if a > 13 then Empty else Full (a <= 7)) (4 :. 5 :. 6 :. Nil) === Full (4 :. 5 :. 6 :. Nil)\", filteringTest2)\n",
    "  , (\"filtering (\\\\a -> if a > 13 then Empty else Full (a <= 7)) (4 :. 5 :. 6 :. 7 :. 8 :. 9 :. Nil) === Full (4 :. 5 :. 6 :. Nil)\", filteringTest3)\n",
    "  , (\"filtering (\\\\a -> if a > 13 then Empty else Full (a <= 7)) (4 :. 5 :. 6 :. 13 :. 14 :. Nil) === Empty\", filteringTest4)\n",
    "  , (\"foo\", filteringTest5)\n",
    "  ]\n",
    "\n",
    "runFilteringTests"
   ]
  },
  {
   "cell_type": "markdown",
   "metadata": {},
   "source": [
    "### 11. (Advanced) `Applicative` Instance for \"Reader\"\n",
    "\n",
    "Implement the `Applicative` Instance for the `Reader r` or `(->) r` `Functor` that was discussed in the `Functor` set of exercises.\n",
    "\n",
    "#### Exercise"
   ]
  },
  {
   "cell_type": "code",
   "execution_count": 121,
   "metadata": {},
   "outputs": [],
   "source": [
    "instance Applicative ((->) r) where\n",
    "  pure :: a -> ((->) r) a\n",
    "  pure = _pure\n",
    "  \n",
    "  (<*>) :: ((->) r) (a -> b) -> ((->) r) a -> ((->) r) b\n",
    "  (<*>) = _apply"
   ]
  },
  {
   "cell_type": "markdown",
   "metadata": {},
   "source": [
    "#### Try it out"
   ]
  },
  {
   "cell_type": "code",
   "execution_count": 122,
   "metadata": {},
   "outputs": [
    {
     "data": {
      "text/plain": [
       "16"
      ]
     },
     "metadata": {},
     "output_type": "display_data"
    }
   ],
   "source": [
    "-- >>> ((+) <*> (+10)) 3\n",
    "-- 16\n",
    "((+) <*> (+10)) 3"
   ]
  },
  {
   "cell_type": "code",
   "execution_count": 123,
   "metadata": {},
   "outputs": [
    {
     "data": {
      "text/plain": [
       "11"
      ]
     },
     "metadata": {},
     "output_type": "display_data"
    }
   ],
   "source": [
    "-- >>> ((+) <*> (+5)) 3\n",
    "-- 11\n",
    "((+) <*> (+5)) 3"
   ]
  },
  {
   "cell_type": "code",
   "execution_count": 124,
   "metadata": {},
   "outputs": [
    {
     "data": {
      "text/plain": [
       "7"
      ]
     },
     "metadata": {},
     "output_type": "display_data"
    }
   ],
   "source": [
    "-- >>> ((+) <*> (+5)) 1\n",
    "-- 7\n",
    "((+) <*> (+5)) 1"
   ]
  },
  {
   "cell_type": "code",
   "execution_count": 125,
   "metadata": {},
   "outputs": [
    {
     "data": {
      "text/plain": [
       "39"
      ]
     },
     "metadata": {},
     "output_type": "display_data"
    }
   ],
   "source": [
    "-- >>> ((*) <*> (+10)) 3\n",
    "-- 39\n",
    "((*) <*> (+10)) 3"
   ]
  },
  {
   "cell_type": "code",
   "execution_count": 128,
   "metadata": {},
   "outputs": [
    {
     "data": {
      "text/plain": [
       "15"
      ]
     },
     "metadata": {},
     "output_type": "display_data"
    }
   ],
   "source": [
    "-- >>> ((*) <*> (+2)) 3\n",
    "-- 15\n",
    "((*) <*> (+2)) 3"
   ]
  },
  {
   "cell_type": "markdown",
   "metadata": {},
   "source": [
    "#### Tests"
   ]
  },
  {
   "cell_type": "code",
   "execution_count": 145,
   "metadata": {},
   "outputs": [
    {
     "data": {
      "text/plain": [
       "Testing: ((+) <*> (+10)) n === (n + (n + 10))\n",
       "+++ OK, passed 100 tests.\n",
       "Testing: ((+) <*> (+5)) n === (n + (n + 5))\n",
       "+++ OK, passed 100 tests.\n",
       "Testing: ((*) <*> (+10)) n === (n * (n + 10))\n",
       "+++ OK, passed 100 tests.\n",
       "Testing: ((*) <*> (+2)) n === (n * (n + 2))\n",
       "+++ OK, passed 100 tests.\n",
       "Testing: pure x y === x\n",
       "+++ OK, passed 100 tests.\n",
       "Testing: lift2 (+) length sum xs === (length xs) + (sum xs)\n",
       "+++ OK, passed 100 tests."
      ]
     },
     "metadata": {},
     "output_type": "display_data"
    }
   ],
   "source": [
    "functionTest1 :: Property\n",
    "functionTest1 = forAll arbitrary $ \\n ->\n",
    "  ((+) <*> (+10)) n === (n + (n + 10))\n",
    "\n",
    "functionTest2 :: Property\n",
    "functionTest2 = forAll arbitrary $ \\n ->\n",
    "  ((+) <*> (+5)) n === (n + (n + 5))\n",
    "\n",
    "functionTest3 :: Property\n",
    "functionTest3 = forAll arbitrary $ \\n ->\n",
    "  ((*) <*> (+10)) n === (n * (n + 10))\n",
    "  \n",
    "functionTest4 :: Property\n",
    "functionTest4 = forAll arbitrary $ \\n ->\n",
    "  ((*) <*> (+2)) n === (n * (n + 2))\n",
    "\n",
    "functionPure :: Property\n",
    "functionPure =\n",
    "  let\n",
    "    gen :: Gen (Int, Int)\n",
    "    gen = do\n",
    "      x <- arbitrary\n",
    "      y <- arbitrary\n",
    "      P.return (x, y)\n",
    "  in forAll gen $ \\(x, y) ->\n",
    "    pure x y === x\n",
    "\n",
    "functionLift2 :: Property\n",
    "functionLift2 =\n",
    "  let\n",
    "    genN :: Int -> Gen (List Int)\n",
    "    genN 0 = P.return Nil\n",
    "    genN n = do\n",
    "      h <- arbitrary\n",
    "      t <- genN (n - 1)\n",
    "      P.return (h :. t)\n",
    "    \n",
    "    lists :: Gen (List Int)\n",
    "    lists = choose (0, 40) P.>>= genN\n",
    "  in forAll lists $ \\xs ->\n",
    "    lift2 (+) length sum xs === (length xs) + (sum xs)\n",
    " \n",
    "runFunctionTests :: IO ()\n",
    "runFunctionTests = runTests [\n",
    "    (\"((+) <*> (+10)) n === (n + (n + 10))\", functionTest1)\n",
    "  , (\"((+) <*> (+5)) n === (n + (n + 5))\", functionTest2)\n",
    "  , (\"((*) <*> (+10)) n === (n * (n + 10))\", functionTest3)\n",
    "  , (\"((*) <*> (+2)) n === (n * (n + 2))\", functionTest4)\n",
    "  , (\"pure x y === x\", functionPure)\n",
    "  , (\"lift2 (+) length sum xs === (length xs) + (sum xs)\", functionLift2)\n",
    "  ]\n",
    "\n",
    "runFunctionTests"
   ]
  },
  {
   "cell_type": "markdown",
   "metadata": {},
   "source": [
    "# TODO: There are still more exercises to port over"
   ]
  },
  {
   "cell_type": "markdown",
   "metadata": {},
   "source": [
    "## Discussion\n",
    "\n",
    "Things to discuss:\n",
    "\n",
    "- The point of Applicative.\n",
    "    - The limitations of `Functor`.\n",
    "- Monoid and Applicative.\n",
    "- `lift*`, `<$>`, `<*>` and currying."
   ]
  },
  {
   "cell_type": "markdown",
   "metadata": {},
   "source": [
    "But look at the type for `(P.++ \"bar\")`:"
   ]
  }
 ],
 "metadata": {
  "kernelspec": {
   "display_name": "Haskell",
   "language": "haskell",
   "name": "haskell"
  },
  "language_info": {
   "codemirror_mode": "ihaskell",
   "file_extension": ".hs",
   "name": "haskell",
   "version": "8.2.2"
  }
 },
 "nbformat": 4,
 "nbformat_minor": 2
}
