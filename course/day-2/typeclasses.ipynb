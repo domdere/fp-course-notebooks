{
 "cells": [
  {
   "cell_type": "markdown",
   "metadata": {},
   "source": [
    "# Typeclasses\n",
    "\n",
    "## IGNORE THIS (config and deps)"
   ]
  },
  {
   "cell_type": "code",
   "execution_count": 1,
   "metadata": {},
   "outputs": [],
   "source": [
    ":l ../original-source/Course/Core.hs\n",
    ":l ../original-source/Course/Optional.hs\n",
    ":l ../original-source/Course/List.hs\n",
    "import qualified Prelude as P\n",
    "import Prelude (String)\n",
    "import Data.Foldable (for_, traverse_)\n",
    "import Test.QuickCheck\n",
    "\n",
    "runTests :: [(P.String, Property)] -> IO ()\n",
    "runTests tests = for_ tests $ \\(name, prop) -> do\n",
    "  P.putStrLn $ \"Testing: \" P.++ name\n",
    "  quickCheck prop\n",
    "\n",
    "threeOf :: Gen a -> Gen (a, a, a)\n",
    "threeOf g = do\n",
    "  x <- g\n",
    "  y <- g\n",
    "  z <- g\n",
    "  P.return (x, y, z)\n",
    "\n",
    "listOf :: Gen a -> Gen (List a)\n",
    "listOf g =\n",
    "  let\n",
    "    genN 0 = P.return Nil\n",
    "    genN n = do\n",
    "      h <- g\n",
    "      t <- genN (n - 1)\n",
    "      P.return (h :. t)\n",
    "  in do\n",
    "    len <- choose (0, 100)\n",
    "    genN len"
   ]
  },
  {
   "cell_type": "markdown",
   "metadata": {},
   "source": [
    "## The Concept\n",
    "\n",
    "- Typeclasses are *like* interfaces.\n",
    "    - In Java and other such OO languages, anothing thing, also called \"classes\" are used to\n",
    "      provide interfaces. While they share this *application*, classes from OOP are **completely different**\n",
    "      from typeclasses.\n",
    "- Typeclasses in FP are *primarily for* specifying [algebraic structures](https://en.wikipedia.org/wiki/Algebraic_structure) on types.\n",
    "- Typeclasses in Haskell *are* a mechanism to *overload* a set of functions on multiple types.\n",
    "    - In this regard they bare some similarity to interfaces\n",
    "- This is done by specifying type signatures for functions that apply to types in the typeclass.\n",
    "\n",
    "For more on typeclasses and how they differ from OOP classes, you can read [here](https://joyofhaskell.com/posts/2017-03-15-typeclasses-in-translation.html)\n",
    "\n",
    "### Algebraic Structure?\n",
    "\n",
    "There are exceptions, but by and large, typeclasses *tend* to be concerned with *combinations* of the following kinds of behaviour:\n",
    "\n",
    "1. Given 2 or more values of this type, are there any functions I can use to produce another value in that type?\n",
    "  - E.g `(+)`, `(*)`\n",
    "2. Are there any particular values of this type that are special with respect to those functions?\n",
    "  - E.g `0` is special for `(+)` and `1` is special for `(*)`.\n",
    "3. Are there some \"laws\" that the functions obey that make reasoning about them easier?\n",
    "  - Not enforced by the compiler, these laws don't exist as \"citizens\" in Haskell\n",
    "    but are usually enforced with *Property Based Tests*.\n",
    "  - E.g `(x + y) + z == x + (y + z) == x + y + z`\n",
    "\n",
    "\n",
    "## Example\n",
    "\n",
    "The following example is a simple typeclass, which doesn't really provide any \"algebraic structure\".\n",
    "\n",
    "They are the exception to the rule, and are somewhat common in the wild."
   ]
  },
  {
   "cell_type": "code",
   "execution_count": 2,
   "metadata": {},
   "outputs": [],
   "source": [
    "class ToString a where\n",
    "  toString :: a -> String\n",
    "\n",
    "instance ToString Integer where\n",
    "  toString = show\n",
    "\n",
    "instance ToString Bool where\n",
    "  toString True = \"true\"\n",
    "  toString False = \"false\""
   ]
  },
  {
   "cell_type": "code",
   "execution_count": 3,
   "metadata": {},
   "outputs": [
    {
     "data": {
      "text/plain": [
       "\"3\""
      ]
     },
     "metadata": {},
     "output_type": "display_data"
    }
   ],
   "source": [
    "toString 3"
   ]
  },
  {
   "cell_type": "code",
   "execution_count": 4,
   "metadata": {},
   "outputs": [
    {
     "data": {
      "text/plain": [
       "\"true\""
      ]
     },
     "metadata": {},
     "output_type": "display_data"
    }
   ],
   "source": [
    "toString True"
   ]
  },
  {
   "cell_type": "code",
   "execution_count": 5,
   "metadata": {},
   "outputs": [
    {
     "data": {
      "text/html": [
       "<style>/* Styles used for the Hoogle display in the pager */\n",
       ".hoogle-doc {\n",
       "display: block;\n",
       "padding-bottom: 1.3em;\n",
       "padding-left: 0.4em;\n",
       "}\n",
       ".hoogle-code {\n",
       "display: block;\n",
       "font-family: monospace;\n",
       "white-space: pre;\n",
       "}\n",
       ".hoogle-text {\n",
       "display: block;\n",
       "}\n",
       ".hoogle-name {\n",
       "color: green;\n",
       "font-weight: bold;\n",
       "}\n",
       ".hoogle-head {\n",
       "font-weight: bold;\n",
       "}\n",
       ".hoogle-sub {\n",
       "display: block;\n",
       "margin-left: 0.4em;\n",
       "}\n",
       ".hoogle-package {\n",
       "font-weight: bold;\n",
       "font-style: italic;\n",
       "}\n",
       ".hoogle-module {\n",
       "font-weight: bold;\n",
       "}\n",
       ".hoogle-class {\n",
       "font-weight: bold;\n",
       "}\n",
       ".get-type {\n",
       "color: green;\n",
       "font-weight: bold;\n",
       "font-family: monospace;\n",
       "display: block;\n",
       "white-space: pre-wrap;\n",
       "}\n",
       ".show-type {\n",
       "color: green;\n",
       "font-weight: bold;\n",
       "font-family: monospace;\n",
       "margin-left: 1em;\n",
       "}\n",
       ".mono {\n",
       "font-family: monospace;\n",
       "display: block;\n",
       "}\n",
       ".err-msg {\n",
       "color: red;\n",
       "font-style: italic;\n",
       "font-family: monospace;\n",
       "white-space: pre;\n",
       "display: block;\n",
       "}\n",
       "#unshowable {\n",
       "color: red;\n",
       "font-weight: bold;\n",
       "}\n",
       ".err-msg.in.collapse {\n",
       "padding-top: 0.7em;\n",
       "}\n",
       ".highlight-code {\n",
       "white-space: pre;\n",
       "font-family: monospace;\n",
       "}\n",
       ".suggestion-warning { \n",
       "font-weight: bold;\n",
       "color: rgb(200, 130, 0);\n",
       "}\n",
       ".suggestion-error { \n",
       "font-weight: bold;\n",
       "color: red;\n",
       "}\n",
       ".suggestion-name {\n",
       "font-weight: bold;\n",
       "}\n",
       "</style><span class='get-type'>toString :: forall a. ToString a => a -> String</span>"
      ],
      "text/plain": [
       "toString :: forall a. ToString a => a -> String"
      ]
     },
     "metadata": {},
     "output_type": "display_data"
    }
   ],
   "source": [
    ":t toString"
   ]
  },
  {
   "cell_type": "markdown",
   "metadata": {},
   "source": [
    "## Stop and Think/Discuss\n",
    "\n",
    "- Keywords in typeclass declaration and instance declaration\n",
    "- `ToString =>` in `:t toString` (can ignore `forall a.`)\n",
    "- Anything else?"
   ]
  },
  {
   "cell_type": "markdown",
   "metadata": {},
   "source": [
    "### Example: Monoid\n",
    "\n",
    "Monoid is a typeclass that describes types whose values can be *aggregated*, and there is an \"empty\" value\n",
    "that does not contribute to the aggregate.\n",
    "\n",
    "#### Declaration"
   ]
  },
  {
   "cell_type": "code",
   "execution_count": 6,
   "metadata": {},
   "outputs": [],
   "source": [
    "class Monoid a where\n",
    "  mappend :: a -> a -> a\n",
    "  mempty :: a\n",
    "\n",
    "(<>) :: (Monoid a) => a -> a -> a\n",
    "(<>) = mappend\n",
    "\n",
    "infixr 6 <>"
   ]
  },
  {
   "cell_type": "markdown",
   "metadata": {},
   "source": [
    "#### Laws\n",
    "\n",
    "These can't be expressed in Haskell, so they dont exist anywhere in the Typeclass declaration, we usually\n",
    "include them in documentation, and write property based tests to verify them.\n",
    "\n",
    "In the future this will most likely be different, see a language like Idris for\n",
    "examples of how this might look in the future with dependent types.\n",
    "\n",
    "##### The law of Identity\n",
    "\n",
    "`mempty` is both a *left* identity and a *right* identity to `mappend/<>`.\n",
    "\n",
    "Left identity:\n",
    "\n",
    "``` haskell\n",
    "mempty <> x === x\n",
    "```\n",
    "\n",
    "Right identity:\n",
    "\n",
    "``` haskell\n",
    "x <> mempty === x\n",
    "```"
   ]
  },
  {
   "cell_type": "code",
   "execution_count": 7,
   "metadata": {},
   "outputs": [],
   "source": [
    "leftIdentityHolds :: (Monoid a, Show a, Eq a) => a -> Property\n",
    "leftIdentityHolds x = mempty <> x === x\n",
    "\n",
    "rightIdentityHolds :: (Monoid a, Show a, Eq a) => a -> Property\n",
    "rightIdentityHolds x = x <> mempty === x"
   ]
  },
  {
   "cell_type": "markdown",
   "metadata": {},
   "source": [
    "##### The law of Associativity\n",
    "\n",
    "If we have 3 or more values, it doesn't matter what order we reduce the terms in:\n",
    "\n",
    "``` haskell\n",
    "(x <> y) <> z === x <> (y <> z) === x <> y <> z\n",
    "```\n",
    "\n",
    "This has a practical advantage in that if we have a large collection of values to\n",
    "aggregate, we can split it up into subsequences and distribute the work. This is\n",
    "a little analogous to map-reduce (prime candidates for map-reduce have a couple more\n",
    "\"properties\" that make the book keeping simpler)."
   ]
  },
  {
   "cell_type": "code",
   "execution_count": 8,
   "metadata": {},
   "outputs": [],
   "source": [
    "associativityLawHolds :: (Monoid a, Show a, Eq a) => a -> a -> a -> Property\n",
    "associativityLawHolds x y z = ((x <> y) <> z) === (x <> (y <> z))"
   ]
  },
  {
   "cell_type": "markdown",
   "metadata": {},
   "source": [
    "#### Example Instances"
   ]
  },
  {
   "cell_type": "code",
   "execution_count": 9,
   "metadata": {},
   "outputs": [],
   "source": [
    "instance Monoid Integer where\n",
    "  mempty = 0\n",
    "  mappend = (+)\n",
    "  \n",
    "instance Monoid (List a) where\n",
    "  mempty = Nil\n",
    "  mappend = (++)"
   ]
  },
  {
   "cell_type": "markdown",
   "metadata": {},
   "source": [
    "#### Verify the laws"
   ]
  },
  {
   "cell_type": "code",
   "execution_count": 10,
   "metadata": {},
   "outputs": [
    {
     "data": {
      "text/plain": [
       "Testing: integer left identity\n",
       "+++ OK, passed 100 tests.\n",
       "Testing: integer right identity\n",
       "+++ OK, passed 100 tests.\n",
       "Testing: integer associativity\n",
       "+++ OK, passed 100 tests.\n",
       "Testing: list left identity\n",
       "+++ OK, passed 100 tests.\n",
       "Testing: list right identity\n",
       "+++ OK, passed 100 tests.\n",
       "Testing: list associativity\n",
       "+++ OK, passed 100 tests."
      ]
     },
     "metadata": {},
     "output_type": "display_data"
    }
   ],
   "source": [
    "verify :: IO ()\n",
    "verify = runTests [\n",
    "    (\"integer left identity\", forAll arbitrary leftIdentityHolds)\n",
    "  , (\"integer right identity\", forAll arbitrary rightIdentityHolds)\n",
    "  , (\"integer associativity\", forAll arbitrary associativityLawHolds)\n",
    "  , (\"list left identity\", forAll (listOf arbitrary) leftIdentityHolds)\n",
    "  , (\"list right identity\", forAll (listOf arbitrary) rightIdentityHolds)\n",
    "  , (\"list associativity\", forAll (threeOf (listOf arbitrary)) (\\(x, y, z) -> associativityLawHolds x y z))\n",
    "  ]\n",
    "\n",
    "verify"
   ]
  },
  {
   "cell_type": "markdown",
   "metadata": {},
   "source": [
    "## Final Thoughts\n",
    "\n",
    "Typeclasses usually embody a concept into the *semantics* of the types into them.\n",
    "\n",
    "In the case of Monoid, for example, the concept is *aggregation*, and the instance for a type describes how aggregation works for that particular type. Whenever I see `List` in a type, I know it can be aggregated,\n",
    "and I know how it is aggregated, it becomes part of what `List` \"is\".\n",
    "\n",
    "The idea of *identifying* algebraic structures that exist in the types we use is a one of the cornerstone fulcrums of the functional programming paradigm.\n",
    "\n",
    "We generally workout how to create simple values of the type, and then combine them to form more complex values, and\n",
    "the laws often afford us one or more of the following luxuries:\n",
    "\n",
    "- Rewrite rules to simplify complex looking expressions in code\n",
    "- Invariants that restrict the complexity of the behaviour\n",
    "    - A law may imply that certain aspects of the behaviour never change when 2 or more values are combined.\n",
    "    - Then we just have to verify that those aspects exist in the base \"simple values\" we start from and\n",
    "    - We have to verify that the invariant is indeed preserved by the functions in the algebra.\n",
    "\n",
    "For more on this aspect of the functional programming mindset, you can read [this blog post](http://www.haskellforall.com/2014/04/scalable-program-architectures.html)"
   ]
  }
 ],
 "metadata": {
  "kernelspec": {
   "display_name": "Haskell",
   "language": "haskell",
   "name": "haskell"
  },
  "language_info": {
   "codemirror_mode": "ihaskell",
   "file_extension": ".hs",
   "name": "haskell",
   "version": "8.2.2"
  }
 },
 "nbformat": 4,
 "nbformat_minor": 2
}
